{
 "cells": [
  {
   "cell_type": "code",
   "execution_count": 1,
   "metadata": {},
   "outputs": [],
   "source": [
    "%load_ext autoreload\n",
    "%autoreload 2"
   ]
  },
  {
   "cell_type": "code",
   "execution_count": 2,
   "metadata": {},
   "outputs": [],
   "source": [
    "import os\n",
    "os.chdir(\"../\")"
   ]
  },
  {
   "cell_type": "code",
   "execution_count": 3,
   "metadata": {},
   "outputs": [],
   "source": [
    "import re\n",
    "import numpy as np\n",
    "import pandas as pd\n",
    "import seaborn as sns\n",
    "import matplotlib.pyplot as plt\n",
    "import util"
   ]
  },
  {
   "attachments": {},
   "cell_type": "markdown",
   "metadata": {},
   "source": [
    "# Analysis of answers for `edge_length_prompts`\n"
   ]
  },
  {
   "attachments": {},
   "cell_type": "markdown",
   "metadata": {},
   "source": [
    "## Load and clean the answers"
   ]
  },
  {
   "cell_type": "code",
   "execution_count": 4,
   "metadata": {},
   "outputs": [],
   "source": [
    "answer_dir = os.path.join(\"answers\", \"longer_edge_length_prompts_steps\")"
   ]
  },
  {
   "cell_type": "code",
   "execution_count": 5,
   "metadata": {},
   "outputs": [
    {
     "name": "stdout",
     "output_type": "stream",
     "text": [
      "Answer is a number: 45\n",
      "Answer is not a number: 5\n",
      "dict_keys(['grafo1683.11.txt', 'grafo1822.11.txt', 'grafo1912.11.txt', 'grafo1917.11.txt', 'grafo1920.11.txt'])\n"
     ]
    }
   ],
   "source": [
    "answer_is_number = {}\n",
    "answer_not_number = {}\n",
    "number_r = re.compile(r\"^\\d*[.,]?\\d*$\")\n",
    "\n",
    "for answer_file in sorted(os.listdir(answer_dir)):\n",
    "    answer_file_path = os.path.join(answer_dir, answer_file)\n",
    "\n",
    "    answer_str = open(answer_file_path, \"r\").read().strip().split(\"\\n\")[-1]\n",
    "    answer_str = answer_str.split()\n",
    "\n",
    "    found_digit = False\n",
    "    for sub_str in answer_str:\n",
    "        if number_r.match(sub_str):\n",
    "            try:\n",
    "                answer_is_number[answer_file] = float(sub_str)\n",
    "                found_digit = True\n",
    "            except: \n",
    "                found_digit = False\n",
    "                break\n",
    "\n",
    "    if not found_digit:\n",
    "        answer_not_number[answer_file] = answer_str\n",
    "\n",
    "print(\"Answer is a number:\", len(answer_is_number))\n",
    "print(\"Answer is not a number:\", len(answer_not_number))\n",
    "\n",
    "print(answer_not_number.keys())\n"
   ]
  },
  {
   "cell_type": "code",
   "execution_count": 6,
   "metadata": {},
   "outputs": [],
   "source": [
    "# we manually analyzed the answers that were harder to parse\n",
    "answer_is_number[\"grafo1920.11.txt\"] = 37.0\n",
    "\n",
    "_ = answer_not_number.pop(\"grafo1920.11.txt\")\n"
   ]
  },
  {
   "attachments": {},
   "cell_type": "markdown",
   "metadata": {},
   "source": [
    "Up to now we only checked if the returned string contained a number. We can now look for the presence of integers (expected) or floats."
   ]
  },
  {
   "cell_type": "code",
   "execution_count": 7,
   "metadata": {},
   "outputs": [
    {
     "name": "stdout",
     "output_type": "stream",
     "text": [
      "Answer is an Integer: 46\n",
      "Answer is a Float: 0\n"
     ]
    }
   ],
   "source": [
    "answer_integer = {}\n",
    "answer_float = {}\n",
    "for answer_file, answer in answer_is_number.items():\n",
    "    if answer.is_integer():\n",
    "        answer_integer[answer_file] = int(answer)\n",
    "    else:\n",
    "        answer_float[answer_file] = answer\n",
    "\n",
    "print(\"Answer is an Integer:\", len(answer_integer))\n",
    "print(\"Answer is a Float:\", len(answer_float))"
   ]
  },
  {
   "cell_type": "code",
   "execution_count": 8,
   "metadata": {},
   "outputs": [
    {
     "name": "stdout",
     "output_type": "stream",
     "text": [
      "18 15\n",
      "16 16\n",
      "17 18\n",
      "17 18\n",
      "17 17\n",
      "14 17\n",
      "33 30\n",
      "26 24\n",
      "19 19\n",
      "12 16\n",
      "24 24\n",
      "20 18\n",
      "12 8\n",
      "31 24\n",
      "17 17\n",
      "18 21\n",
      "34 22\n",
      "25 23\n",
      "20 18\n",
      "16 16\n",
      "11 11\n",
      "20 18\n",
      "18 12\n",
      "42 37\n",
      "17 17\n",
      "28 29\n",
      "23 24\n",
      "25 24\n",
      "13 13\n",
      "25 23\n",
      "21 23\n",
      "18 18\n",
      "22 20\n",
      "17 18\n",
      "15 15\n",
      "35 35\n",
      "18 17\n",
      "19 19\n",
      "20 18\n",
      "20 15\n",
      "39 36\n",
      "25 20\n",
      "18 18\n",
      "17 17\n",
      "22 25\n",
      "30 20\n"
     ]
    },
    {
     "data": {
      "image/png": "[encoded data removed]",
      "text/plain": [
       "<Figure size 576x216 with 1 Axes>"
      ]
     },
     "metadata": {},
     "output_type": "display_data"
    }
   ],
   "source": [
    "import ast\n",
    "\n",
    "data = {}\n",
    "data[\"Correct\"] = 0\n",
    "data[\"Incorrect\"] = 0\n",
    "data[\"Malformed\"] = len(answer_not_number)\n",
    "\n",
    "for f in util.read_files(base_path = \"rome\"):\n",
    "    # print(f['filename'])\n",
    "    fname = f['filename'].split(\"/\")[1].replace(\".graphml\", \".txt\")\n",
    "    if fname not in answer_integer: continue\n",
    "\n",
    "    query_file = open(\"queries/longer_edge_length_prompts_no_steps/\" + f['filename'].split(\"/\")[1].replace(\".graphml\", \".txt\"), \"r\")\n",
    "    query_content = query_file.read().split(\"\\n\")\n",
    "\n",
    "    el = [(int(u), int(v)) for (u, v) in ast.literal_eval(query_content[4].split(\":\")[1].strip())]\n",
    "\n",
    "    try:\n",
    "        nr = {\n",
    "            0 : [int(x) for x in ast.literal_eval(query_content[8].split(\":\")[1].strip())],\n",
    "            1 : [int(x) for x in ast.literal_eval(query_content[9].split(\":\")[1].strip())],\n",
    "            2 : [int(x) for x in ast.literal_eval(query_content[10].split(\":\")[1].strip())],\n",
    "            3 : [int(x) for x in ast.literal_eval(query_content[11].split(\":\")[1].strip())],\n",
    "            4 : [int(x) for x in ast.literal_eval(query_content[12].split(\":\")[1].strip())],\n",
    "            5 : [int(x) for x in ast.literal_eval(query_content[13].split(\":\")[1].strip())],\n",
    "        }\n",
    "    except:\n",
    "        nr = {\n",
    "            0 : [int(x) for x in ast.literal_eval(query_content[8].split(\":\")[1].strip())],\n",
    "            1 : [int(x) for x in ast.literal_eval(query_content[9].split(\":\")[1].strip())],\n",
    "            2 : [int(x) for x in ast.literal_eval(query_content[10].split(\":\")[1].strip())],\n",
    "            3 : [int(x) for x in ast.literal_eval(query_content[11].split(\":\")[1].strip())],\n",
    "            4 : [int(x) for x in ast.literal_eval(query_content[12].split(\":\")[1].strip())],\n",
    "        }\n",
    "\n",
    "    if (util.count_edge_length(el, nr) == answer_integer[fname]):\n",
    "        data[\"Correct\"] += 1\n",
    "    else: data[\"Incorrect\"] += 1\n",
    "\n",
    "    print(util.count_edge_length(el, nr), answer_integer[fname])\n",
    "\n",
    "import seaborn as sns\n",
    "import matplotlib.pyplot as plt\n",
    "import pandas as pd\n",
    "\n",
    "# Convert the dictionary to a Pandas DataFrame for plotting\n",
    "df = pd.DataFrame.from_dict(data, orient='index', columns=['Value'])\n",
    "\n",
    "sns.set(rc={'figure.figsize':(8,3)})\n",
    "\n",
    "# Use Seaborn to create a bar chart\n",
    "sns.barplot(x=df.index, y='Value', data=df, color='skyblue')\n",
    "\n",
    "# Set the labels for the x and y axes\n",
    "# plt.xSabel('Label')\n",
    "plt.ylabel('Count')\n",
    "\n",
    "# Show the plot\n",
    "plt.show()"
   ]
  },
  {
   "cell_type": "code",
   "execution_count": null,
   "metadata": {},
   "outputs": [],
   "source": []
  }
 ],
 "metadata": {
  "kernelspec": {
   "display_name": "benchmark-datasets",
   "language": "python",
   "name": "python3"
  },
  "language_info": {
   "codemirror_mode": {
    "name": "ipython",
    "version": 3
   },
   "file_extension": ".py",
   "mimetype": "text/x-python",
   "name": "python",
   "nbconvert_exporter": "python",
   "pygments_lexer": "ipython3",
   "version": "3.9.12"
  },
  "orig_nbformat": 4,
  "vscode": {
   "interpreter": {
    "hash": "5872384cb7990bed35a3d56a9d011194c434ba90616f398717c5f0d1ded67067"
   }
  }
 },
 "nbformat": 4,
 "nbformat_minor": 2
}
