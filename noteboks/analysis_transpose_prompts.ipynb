{
 "cells": [
  {
   "cell_type": "code",
   "execution_count": 1,
   "metadata": {},
   "outputs": [],
   "source": [
    "%load_ext autoreload\n",
    "%autoreload 2"
   ]
  },
  {
   "cell_type": "code",
   "execution_count": 2,
   "metadata": {},
   "outputs": [],
   "source": [
    "import os\n",
    "os.chdir(\"../\")"
   ]
  },
  {
   "cell_type": "code",
   "execution_count": 25,
   "metadata": {},
   "outputs": [],
   "source": [
    "import ast\n",
    "import yaml\n",
    "import json\n",
    "import numpy as np\n",
    "import pandas as pd\n",
    "import seaborn as sns\n",
    "import matplotlib.pyplot as plt\n",
    "from util import read_files\n",
    "from util import count_edge_crossings\n",
    "from util import bfs"
   ]
  },
  {
   "attachments": {},
   "cell_type": "markdown",
   "metadata": {},
   "source": [
    "# Analysis of answers for `transpose_prompts`\n"
   ]
  },
  {
   "attachments": {},
   "cell_type": "markdown",
   "metadata": {},
   "source": [
    "## Load and clean the answers"
   ]
  },
  {
   "cell_type": "code",
   "execution_count": 4,
   "metadata": {},
   "outputs": [],
   "source": [
    "answer_dir = os.path.join(\"answers\", \"transpose_prompts\")"
   ]
  },
  {
   "cell_type": "code",
   "execution_count": 5,
   "metadata": {},
   "outputs": [
    {
     "name": "stdout",
     "output_type": "stream",
     "text": [
      "Has copy code:  192\n",
      "No copy code:  15\n"
     ]
    }
   ],
   "source": [
    "has_copy_code = []\n",
    "no_copy_code = []\n",
    "\n",
    "for answer_file in sorted(os.listdir(answer_dir)):\n",
    "    answer_file_path = os.path.join(answer_dir, answer_file)\n",
    "\n",
    "    answer_str = open(answer_file_path, \"r\").read().strip()\n",
    "\n",
    "    if \"Copy code\" in answer_str:\n",
    "        has_copy_code.append(answer_file)\n",
    "    else:\n",
    "        no_copy_code.append(answer_file)\n",
    "\n",
    "print(\"Has copy code: \", len(has_copy_code))\n",
    "print(\"No copy code: \", len(no_copy_code))"
   ]
  },
  {
   "attachments": {},
   "cell_type": "markdown",
   "metadata": {},
   "source": [
    "The files that contain the stirng \"Copy code\" contain the answer formatted in a code block. These are likely to contain a potentially appropriate answer to the query.\n",
    "Files containing only unstructured text are less likely to contain valid answers and will be analyzed separately."
   ]
  },
  {
   "cell_type": "code",
   "execution_count": 6,
   "metadata": {},
   "outputs": [
    {
     "name": "stdout",
     "output_type": "stream",
     "text": [
      "Missed:  7\n",
      "Answers:  185\n"
     ]
    }
   ],
   "source": [
    "answers = {}\n",
    "missed = {}\n",
    "\n",
    "for answer_file in sorted(has_copy_code):\n",
    "    answer_file_path = os.path.join(answer_dir, answer_file)\n",
    "    answer_str = open(answer_file_path, \"r\").read().strip()\n",
    "\n",
    "    # print(answer_file)\n",
    "    # print(answer_str)\n",
    "\n",
    "    answer_str = answer_str.split(\"Copy code\")[1].strip()\n",
    "\n",
    "    if \"ranks =\" in answer_str:\n",
    "        answer_str = answer_str.split(\"ranks =\")[1].strip()\n",
    "        answer_str = answer_str.split(\"}\")[0].strip()\n",
    "        answer_str = answer_str + \"}\"\n",
    "\n",
    "    try:\n",
    "        answer_dict = yaml.safe_load(answer_str)\n",
    "    except:\n",
    "        try:\n",
    "            answer_dict = json.loads(answer_str)\n",
    "        except:\n",
    "            try:\n",
    "                answer_dict = ast.literal_eval(answer_str)\n",
    "            except:\n",
    "                missed[answer_file] = answer_str\n",
    "                continue\n",
    "    \n",
    "    # print(answer_dict)\n",
    "    answers[answer_file] = answer_dict\n",
    "    # print()\n",
    "    # break\n",
    "\n",
    "print(\"Missed: \", len(missed))\n",
    "print(\"Answers: \", len(answers))"
   ]
  },
  {
   "attachments": {},
   "cell_type": "markdown",
   "metadata": {},
   "source": [
    "Let's now look at the other files."
   ]
  },
  {
   "cell_type": "code",
   "execution_count": 7,
   "metadata": {},
   "outputs": [
    {
     "name": "stdout",
     "output_type": "stream",
     "text": [
      "Additional missed:  0\n",
      "Additional answers:  15\n"
     ]
    }
   ],
   "source": [
    "additional_answers = {}\n",
    "additional_missed = {}\n",
    "\n",
    "for answer_file in sorted(no_copy_code):\n",
    "    answer_file_path = os.path.join(answer_dir, answer_file)\n",
    "    answer_str = open(answer_file_path, \"r\").read().strip()\n",
    "    \n",
    "    if \"ranks =\" in answer_str:\n",
    "        answer_str = answer_str.split(\"ranks =\")[1].strip()\n",
    "        answer_str = answer_str.split(\"}\")[0].strip()\n",
    "        answer_str = answer_str + \"}\"\n",
    "\n",
    "    try:\n",
    "        answer_dict = yaml.safe_load(answer_str)\n",
    "    except:\n",
    "        try:\n",
    "            answer_dict = json.loads(answer_str)\n",
    "        except:\n",
    "            try:\n",
    "                answer_dict = ast.literal_eval(answer_str)\n",
    "            except:\n",
    "                additional_missed[answer_file] = answer_str\n",
    "                continue\n",
    "    \n",
    "    # print(answer_dict)\n",
    "    additional_answers[answer_file] = answer_dict\n",
    "\n",
    "print(\"Additional missed: \", len(additional_missed))\n",
    "print(\"Additional answers: \", len(additional_answers))"
   ]
  },
  {
   "attachments": {},
   "cell_type": "markdown",
   "metadata": {},
   "source": [
    "We can now merge the parsed answers together."
   ]
  },
  {
   "cell_type": "code",
   "execution_count": 8,
   "metadata": {},
   "outputs": [
    {
     "name": "stdout",
     "output_type": "stream",
     "text": [
      "grafo8177.88.txt does not have a dict : len(ranks) sorted_}\n",
      "Total missed:  8\n",
      "Total answers:  199\n"
     ]
    }
   ],
   "source": [
    "answers.update(additional_answers)\n",
    "missed.update(additional_missed)\n",
    "\n",
    "# Safety check\n",
    "non_dict = []\n",
    "for k,v in answers.items():\n",
    "    if type(v) != dict:\n",
    "        print(\"{} does not have a dict : {}\".format(k, v))\n",
    "        non_dict.append((k,v))\n",
    "\n",
    "for (k,v) in non_dict:\n",
    "    del answers[k]\n",
    "    missed[k] = v\n",
    "\n",
    "print(\"Total missed: \", len(missed))\n",
    "print(\"Total answers: \", len(answers))"
   ]
  },
  {
   "attachments": {},
   "cell_type": "markdown",
   "metadata": {},
   "source": [
    "## Load and clean the prompts"
   ]
  },
  {
   "cell_type": "code",
   "execution_count": 9,
   "metadata": {},
   "outputs": [],
   "source": [
    "queries_dir = os.path.join(\"queries\", \"transpose_prompts\")"
   ]
  },
  {
   "cell_type": "code",
   "execution_count": 10,
   "metadata": {},
   "outputs": [
    {
     "name": "stdout",
     "output_type": "stream",
     "text": [
      "Number of queries:  207\n"
     ]
    }
   ],
   "source": [
    "queries = {}\n",
    "\n",
    "for query_file in sorted(os.listdir(queries_dir)):\n",
    "    queries[query_file] = {}\n",
    "    query_file_path = os.path.join(queries_dir, query_file)\n",
    "\n",
    "    query_str = open(query_file_path, \"r\").read().strip()\n",
    "\n",
    "    query_edges = query_str.split(\"edges = \")[1]\n",
    "    query_edges = query_edges.split(\"\\n\")[0].strip()\n",
    "    query_edges = ast.literal_eval(query_edges)\n",
    "\n",
    "    query_ranks = query_str.split(\"ranks = \")[1]\n",
    "    query_ranks = query_ranks.split(\"\\n\")[0].strip()\n",
    "    query_ranks = ast.literal_eval(query_ranks)\n",
    "    \n",
    "    queries[query_file][\"edges\"] = query_edges\n",
    "    queries[query_file][\"ranks\"] = query_ranks\n",
    "\n",
    "print(\"Number of queries: \", len(queries))"
   ]
  },
  {
   "attachments": {},
   "cell_type": "markdown",
   "metadata": {},
   "source": [
    "## Safety check: all nodes are there"
   ]
  },
  {
   "cell_type": "code",
   "execution_count": 11,
   "metadata": {},
   "outputs": [
    {
     "name": "stdout",
     "output_type": "stream",
     "text": [
      "\n",
      "Unique number of nodes in the graphs of each query:\n",
      "(array([10, 11]), array([ 79, 128]))\n",
      "\n",
      "Unique number of nodes in the graphs of each answer:\n",
      "(array([10, 11]), array([ 81, 118]))\n",
      "\n",
      "Correct nodes answers:  195\n",
      "Incorrect nodes answers:  4\n"
     ]
    }
   ],
   "source": [
    "all_nodes_queries = {}\n",
    "for query_file, query_dict in queries.items():\n",
    "    all_nodes_queries[query_file] = set()\n",
    "    for edge in query_dict[\"edges\"]:\n",
    "        all_nodes_queries[query_file].add(edge[0])\n",
    "        all_nodes_queries[query_file].add(edge[1])\n",
    "\n",
    "# Print the number of nodes in the graphs of each query\n",
    "all_nodes_orig_number = [len(all_nodes_queries[query_file]) for query_file in all_nodes_queries]\n",
    "print(\"\\nUnique number of nodes in the graphs of each query:\")\n",
    "print(np.unique(all_nodes_orig_number, return_counts=True))\n",
    "\n",
    "all_nodes_answers = {}\n",
    "for answer_file, answer_dict in answers.items():\n",
    "    all_nodes_answers[answer_file] = set()\n",
    "    for rank, nodes in answer_dict.items():\n",
    "        for node in nodes:\n",
    "            all_nodes_answers[answer_file].add(node)\n",
    "\n",
    "# Print the number of nodes in the graphs of each answer\n",
    "all_nodes_answer_number = [len(all_nodes_answers[answer_file]) for answer_file in all_nodes_answers]\n",
    "print(\"\\nUnique number of nodes in the graphs of each answer:\")\n",
    "print(np.unique(all_nodes_answer_number, return_counts=True))\n",
    "\n",
    "correct_nodes_answers = {}\n",
    "incorrect_nodes_answers = {}\n",
    "for answer_file, answer_dict in answers.items():\n",
    "    answer_nodes = all_nodes_answers[answer_file]\n",
    "    query_nodes = all_nodes_queries[answer_file]\n",
    "\n",
    "    if answer_nodes == query_nodes:\n",
    "        correct_nodes_answers[answer_file] = answer_dict\n",
    "    else:\n",
    "        incorrect_nodes_answers[answer_file] = answer_dict\n",
    "\n",
    "print(\"\\nCorrect nodes answers: \", len(correct_nodes_answers))\n",
    "print(\"Incorrect nodes answers: \", len(incorrect_nodes_answers))"
   ]
  },
  {
   "attachments": {},
   "cell_type": "markdown",
   "metadata": {},
   "source": [
    "We can now take a look at the different alterations in those graphs whose number of nodes is different than it should be."
   ]
  },
  {
   "cell_type": "code",
   "execution_count": 12,
   "metadata": {},
   "outputs": [
    {
     "name": "stdout",
     "output_type": "stream",
     "text": [
      "\n",
      "Increased nodes answers:  0\n",
      "Decreased nodes answers:  4\n"
     ]
    }
   ],
   "source": [
    "increased_nodes_answers = {}\n",
    "decreased_nodes_answers = {}\n",
    "\n",
    "for answer_file, answer_dict in incorrect_nodes_answers.items():\n",
    "    answer_nodes = all_nodes_answers[answer_file]\n",
    "    query_nodes = all_nodes_queries[answer_file]\n",
    "\n",
    "    if len(answer_nodes) > len(query_nodes):\n",
    "        increased_nodes_answers[answer_file] = answer_dict\n",
    "    else:\n",
    "        decreased_nodes_answers[answer_file] = answer_dict\n",
    "\n",
    "print(\"\\nIncreased nodes answers: \", len(increased_nodes_answers))\n",
    "print(\"Decreased nodes answers: \", len(decreased_nodes_answers))"
   ]
  },
  {
   "cell_type": "code",
   "execution_count": null,
   "metadata": {},
   "outputs": [],
   "source": []
  },
  {
   "cell_type": "code",
   "execution_count": 39,
   "metadata": {},
   "outputs": [],
   "source": [
    "WRONG_FORMAT = -1\n",
    "MISSING_NODES = -2\n",
    "EXTRA_NODES = -3"
   ]
  },
  {
   "cell_type": "code",
   "execution_count": 40,
   "metadata": {},
   "outputs": [],
   "source": [
    "results = []\n",
    "for i, query in enumerate(queries):\n",
    "\n",
    "\n",
    "    c = count_edge_crossings(queries[query][\"edges\"], queries[query][\"ranks\"])\n",
    "    if query in correct_nodes_answers:\n",
    "        c2 = count_edge_crossings(queries[query][\"edges\"], answers[query])\n",
    "    elif query in increased_nodes_answers:\n",
    "        c2 = EXTRA_NODES\n",
    "    elif query in decreased_nodes_answers:\n",
    "        c2 = MISSING_NODES\n",
    "    else:\n",
    "        c2 = WRONG_FORMAT\n",
    "    # print(\"original crossings: \", c, \"new crossings: \", c2)\n",
    "    results.append({\n",
    "        \"query\": query,\n",
    "        \"original_crossings\": c,\n",
    "        \"new_crossings\": c2,\n",
    "    })\n",
    "\n",
    "\n",
    "    # break\n",
    "\n",
    "results_df = pd.DataFrame.from_dict(results)"
   ]
  },
  {
   "cell_type": "code",
   "execution_count": 45,
   "metadata": {},
   "outputs": [
    {
     "data": {
      "text/html": [
       "<div>\n",
       "<style scoped>\n",
       "    .dataframe tbody tr th:only-of-type {\n",
       "        vertical-align: middle;\n",
       "    }\n",
       "\n",
       "    .dataframe tbody tr th {\n",
       "        vertical-align: top;\n",
       "    }\n",
       "\n",
       "    .dataframe thead th {\n",
       "        text-align: right;\n",
       "    }\n",
       "</style>\n",
       "<table border=\"1\" class=\"dataframe\">\n",
       "  <thead>\n",
       "    <tr style=\"text-align: right;\">\n",
       "      <th></th>\n",
       "      <th>query</th>\n",
       "      <th>original_crossings</th>\n",
       "      <th>new_crossings</th>\n",
       "    </tr>\n",
       "  </thead>\n",
       "  <tbody>\n",
       "    <tr>\n",
       "      <th>0</th>\n",
       "      <td>grafo10064.39.txt</td>\n",
       "      <td>0.0</td>\n",
       "      <td>1.0</td>\n",
       "    </tr>\n",
       "    <tr>\n",
       "      <th>1</th>\n",
       "      <td>grafo10093.98.txt</td>\n",
       "      <td>0.0</td>\n",
       "      <td>1.0</td>\n",
       "    </tr>\n",
       "    <tr>\n",
       "      <th>2</th>\n",
       "      <td>grafo10149.95.txt</td>\n",
       "      <td>0.0</td>\n",
       "      <td>0.0</td>\n",
       "    </tr>\n",
       "    <tr>\n",
       "      <th>3</th>\n",
       "      <td>grafo10163.93.txt</td>\n",
       "      <td>0.0</td>\n",
       "      <td>1.0</td>\n",
       "    </tr>\n",
       "    <tr>\n",
       "      <th>4</th>\n",
       "      <td>grafo10547.94.txt</td>\n",
       "      <td>0.0</td>\n",
       "      <td>0.0</td>\n",
       "    </tr>\n",
       "    <tr>\n",
       "      <th>...</th>\n",
       "      <td>...</td>\n",
       "      <td>...</td>\n",
       "      <td>...</td>\n",
       "    </tr>\n",
       "    <tr>\n",
       "      <th>202</th>\n",
       "      <td>grafo9797.80.txt</td>\n",
       "      <td>0.0</td>\n",
       "      <td>-1.0</td>\n",
       "    </tr>\n",
       "    <tr>\n",
       "      <th>203</th>\n",
       "      <td>grafo983.19.txt</td>\n",
       "      <td>2.0</td>\n",
       "      <td>6.0</td>\n",
       "    </tr>\n",
       "    <tr>\n",
       "      <th>204</th>\n",
       "      <td>grafo9873.35.txt</td>\n",
       "      <td>0.0</td>\n",
       "      <td>0.0</td>\n",
       "    </tr>\n",
       "    <tr>\n",
       "      <th>205</th>\n",
       "      <td>grafo9931.39.txt</td>\n",
       "      <td>0.0</td>\n",
       "      <td>-1.0</td>\n",
       "    </tr>\n",
       "    <tr>\n",
       "      <th>206</th>\n",
       "      <td>grafo9980.32.txt</td>\n",
       "      <td>0.0</td>\n",
       "      <td>1.0</td>\n",
       "    </tr>\n",
       "  </tbody>\n",
       "</table>\n",
       "<p>207 rows × 3 columns</p>\n",
       "</div>"
      ],
      "text/plain": [
       "                 query  original_crossings  new_crossings\n",
       "0    grafo10064.39.txt                 0.0            1.0\n",
       "1    grafo10093.98.txt                 0.0            1.0\n",
       "2    grafo10149.95.txt                 0.0            0.0\n",
       "3    grafo10163.93.txt                 0.0            1.0\n",
       "4    grafo10547.94.txt                 0.0            0.0\n",
       "..                 ...                 ...            ...\n",
       "202   grafo9797.80.txt                 0.0           -1.0\n",
       "203    grafo983.19.txt                 2.0            6.0\n",
       "204   grafo9873.35.txt                 0.0            0.0\n",
       "205   grafo9931.39.txt                 0.0           -1.0\n",
       "206   grafo9980.32.txt                 0.0            1.0\n",
       "\n",
       "[207 rows x 3 columns]"
      ]
     },
     "execution_count": 45,
     "metadata": {},
     "output_type": "execute_result"
    }
   ],
   "source": [
    "results_df"
   ]
  },
  {
   "cell_type": "code",
   "execution_count": 53,
   "metadata": {},
   "outputs": [
    {
     "data": {
      "image/png": "[encoded data removed]",
      "text/plain": [
       "<Figure size 1080x216 with 1 Axes>"
      ]
     },
     "metadata": {},
     "output_type": "display_data"
    }
   ],
   "source": [
    "import seaborn as sns\n",
    "import matplotlib.pyplot as plt\n",
    "import pandas as pd\n",
    "\n",
    "# Generate some sample data as a dictionary\n",
    "data = {}\n",
    "\n",
    "# Count the number of entries for which new_crossings is positive and new_crossings < original_crossings\n",
    "improved_answers = list(filter(lambda x: x[\"new_crossings\"] >= 0 and x[\"new_crossings\"] < x[\"original_crossings\"], results))\n",
    "data[\"Improved answers\"] = len(improved_answers)\n",
    "\n",
    "# Count the number of entries for which new_crossings is positive and new_crossings > original_crossings\n",
    "data[\"Worsened answers\"] = len(list(filter(lambda x: x[\"new_crossings\"] >= 0 and x[\"new_crossings\"] > x[\"original_crossings\"], results)))\n",
    "\n",
    "# Count the number of entries for which new_crossings is positive and new_crossings == original_crossings\n",
    "data[\"Equivalent answers\"] = len(list(filter(lambda x: x[\"new_crossings\"] >= 0 and x[\"new_crossings\"] == x[\"original_crossings\"], results)))\n",
    "\n",
    "# Count the number of malformed answers\n",
    "data[\"Malformed answers\"] = len(list(filter(lambda x: x[\"new_crossings\"] == WRONG_FORMAT, results)))\n",
    "\n",
    "# Count the number of answers with missing nodes\n",
    "data[\"Missing nodes\"] = len(list(filter(lambda x: x[\"new_crossings\"] == MISSING_NODES, results)))\n",
    "\n",
    "# Count the number of answers with extra nodes\n",
    "data[\"Extra nodes\"] = len(list(filter(lambda x: x[\"new_crossings\"] == EXTRA_NODES, results)))\n",
    "\n",
    "# Convert the dictionary to a Pandas DataFrame for plotting\n",
    "df = pd.DataFrame.from_dict(data, orient='index', columns=['Value'])\n",
    "\n",
    "sns.set(rc={'figure.figsize':(15,3)})\n",
    "\n",
    "# Use Seaborn to create a bar chart\n",
    "sns.barplot(x=df.index, y='Value', data=df, color='skyblue')\n",
    "\n",
    "# Set the labels for the x and y axes\n",
    "# plt.xSabel('Label')\n",
    "plt.ylabel('Count')\n",
    "\n",
    "# Show the plot\n",
    "plt.show()"
   ]
  },
  {
   "cell_type": "code",
   "execution_count": 56,
   "metadata": {},
   "outputs": [
    {
     "name": "stdout",
     "output_type": "stream",
     "text": [
      "original ranks:  {0: [0], 1: [7], 2: [2], 3: [6, 8, 5], 4: [1, 3], 5: [9], 6: [4]}\n",
      "original edges:  [(5, 1), (1, 6), (6, 2), (2, 7), (7, 0), (3, 8), (8, 2), (4, 9), (9, 3), (2, 5)]\n",
      "response ranks: {0: [7], 1: [5, 1], 2: [2, 6, 0], 3: [8, 3], 4: [9, 4], 5: [], 6: []}\n",
      "\n",
      "\n",
      "\n",
      "original ranks:  {0: [0], 1: [5], 2: [9, 3], 3: [7, 8], 4: [2, 4], 5: [6], 6: [1]}\n",
      "original edges:  [(5, 0), (6, 1), (6, 2), (2, 7), (7, 4), (8, 2), (9, 7), (9, 8), (9, 5), (3, 5)]\n",
      "response ranks: {0: [0], 1: [5], 2: [9, 3], 3: [8, 7], 4: [2, 4], 5: [6], 6: [1]}\n",
      "\n",
      "\n",
      "\n",
      "original ranks:  {0: [0], 1: [9, 4], 2: [3, 1, 2], 3: [6, 5, 7, 8, 10]}\n",
      "original edges:  [(3, 9), (9, 0), (0, 4), (4, 1), (1, 6), (6, 3), (1, 5), (5, 2), (1, 7), (8, 1), (10, 2), (4, 2)]\n",
      "response ranks: {0: [0], 1: [4, 1, 9], 2: [2, 5, 3], 3: [10, 7, 8, 6]}\n",
      "\n",
      "\n",
      "\n",
      "original ranks:  {0: [0], 1: [4, 6, 8], 2: [2, 3, 10, 9, 1], 3: [5, 7]}\n",
      "original edges:  [(2, 4), (4, 0), (0, 6), (3, 5), (8, 0), (8, 1), (4, 3), (5, 9), (9, 6), (10, 7), (10, 4)]\n",
      "response ranks: {0: [0], 1: [4, 8, 6, 1], 2: [2, 3, 10, 5, 9], 3: [7]}\n",
      "\n",
      "\n",
      "\n",
      "original ranks:  {0: [0], 1: [1, 3], 2: [2, 7, 6, 4, 8], 3: [9, 10, 5]}\n",
      "original edges:  [(0, 1), (1, 2), (2, 3), (0, 3), (4, 5), (6, 7), (7, 1), (1, 6), (4, 1), (4, 3), (1, 8), (7, 4), (5, 9), (9, 6), (10, 9), (10, 6), (10, 5)]\n",
      "response ranks: {0: [0], 1: [3, 1], 2: [2, 4, 6, 7, 8], 3: [5, 9, 10]}\n",
      "\n",
      "\n",
      "\n",
      "original ranks:  {0: [0], 1: [1, 6, 5, 3, 7, 8], 2: [2, 9, 4, 10]}\n",
      "original edges:  [(0, 1), (1, 2), (3, 4), (4, 5), (6, 0), (0, 5), (3, 0), (3, 2), (0, 7), (7, 8), (8, 0), (1, 8), (5, 9), (9, 6), (10, 5)]\n",
      "response ranks: {0: [0, 7, 5, 6, 1, 8], 1: [3, 4], 2: [2, 9, 10]}\n",
      "\n",
      "\n",
      "\n",
      "original ranks:  {0: [0], 1: [1, 6, 5, 3, 7, 8, 10], 2: [2, 9, 4]}\n",
      "original edges:  [(0, 1), (1, 2), (3, 4), (4, 5), (5, 6), (6, 0), (0, 5), (3, 0), (3, 2), (0, 7), (7, 8), (8, 0), (5, 2), (1, 9), (9, 8), (10, 9), (10, 4), (10, 2), (10, 7), (10, 0)]\n",
      "response ranks: {0: [0, 8, 7], 1: [1, 10, 5, 3, 6, 9, 2], 2: [4]}\n",
      "\n",
      "\n",
      "\n",
      "original ranks:  {0: [0], 1: [1, 3], 2: [2, 7, 6, 4, 8, 9], 3: [5]}\n",
      "original edges:  [(0, 1), (1, 2), (2, 3), (0, 3), (4, 5), (5, 6), (6, 7), (7, 1), (1, 6), (4, 1), (4, 3), (1, 8), (8, 9), (9, 1), (2, 9)]\n",
      "response ranks: {0: [0], 1: [3, 1], 2: [7, 2, 6, 8, 9, 4], 3: [5]}\n",
      "\n",
      "\n",
      "\n",
      "original ranks:  {0: [0], 1: [1, 3], 2: [2, 6, 4, 7, 8], 3: [10, 9, 5]}\n",
      "original edges:  [(0, 1), (1, 2), (2, 3), (0, 3), (6, 1), (4, 1), (1, 7), (7, 8), (8, 1), (2, 8), (7, 5), (4, 9), (9, 5), (10, 6)]\n",
      "response ranks: {0: [0], 1: [3, 1], 2: [2, 4, 8, 6, 7], 3: [5, 9, 10]}\n",
      "\n",
      "\n",
      "\n",
      "original ranks:  {0: [0], 1: [10], 2: [5, 3, 2, 6, 4, 1, 7], 3: [9, 8]}\n",
      "original edges:  [(1, 6), (6, 2), (2, 7), (7, 3), (2, 8), (8, 4), (5, 6), (5, 9), (9, 1), (10, 5), (10, 3), (10, 2), (10, 6), (10, 4), (10, 1), (10, 0), (10, 7)]\n",
      "response ranks: {0: [0], 1: [10], 2: [5, 2, 3, 1, 6, 7, 4, 8], 3: [9, 8]}\n",
      "\n",
      "\n",
      "\n",
      "original ranks:  {0: [0], 1: [9, 10], 2: [1, 7, 6], 3: [4, 2, 8], 4: [5, 3]}\n",
      "original edges:  [(2, 3), (4, 1), (2, 1), (6, 1), (5, 4), (7, 4), (8, 6), (0, 9), (9, 1), (10, 7), (10, 6), (10, 0)]\n",
      "response ranks: {0: [0], 1: [10, 9, 1], 2: [7, 6, 2], 3: [4, 8, 3], 4: [5]}\n",
      "\n",
      "\n",
      "\n",
      "original ranks:  {0: [0], 1: [1], 2: [6, 8, 2, 9], 3: [3, 5, 4, 7], 4: [10]}\n",
      "original edges:  [(5, 2), (1, 6), (6, 3), (0, 1), (2, 4), (7, 2), (8, 1), (8, 6), (2, 1), (1, 9), (9, 5), (10, 5), (10, 7)]\n",
      "response ranks: {0: [0], 1: [1], 2: [6, 8, 2, 9], 3: [3, 4, 5, 7], 4: [10]}\n",
      "\n",
      "\n",
      "\n",
      "original ranks:  {0: [0], 1: [1, 3, 6], 2: [2, 5, 4, 7, 8], 3: [9]}\n",
      "original edges:  [(0, 1), (1, 2), (2, 3), (0, 3), (5, 6), (6, 1), (1, 5), (4, 1), (4, 3), (1, 7), (0, 6), (8, 1), (9, 2), (5, 2)]\n",
      "response ranks: {0: [0], 1: [1, 3, 6], 2: [8, 2, 5, 7, 4], 3: [9]}\n",
      "\n",
      "\n",
      "\n",
      "original ranks:  {0: [0], 1: [1, 3], 2: [2, 7, 6, 4, 8, 9], 3: [5]}\n",
      "original edges:  [(0, 1), (1, 2), (2, 3), (0, 3), (4, 5), (5, 6), (6, 7), (7, 1), (1, 6), (4, 1), (4, 3), (1, 8), (8, 9), (9, 1), (2, 9)]\n",
      "response ranks: {0: [0], 1: [1, 3], 2: [6, 7, 2, 4, 8, 9], 3: [5]}\n",
      "\n",
      "\n",
      "\n",
      "original ranks:  {0: [0], 1: [5, 8], 2: [1, 2], 3: [6, 7, 9], 4: [3], 5: [10], 6: [4]}\n",
      "original edges:  [(0, 5), (5, 1), (1, 6), (6, 2), (2, 8), (8, 0), (1, 7), (7, 3), (3, 9), (9, 2), (4, 10), (10, 3)]\n",
      "response ranks: {0: [5, 0], 1: [1, 8, 6], 2: [2, 9], 3: [7, 3, 10], 4: [4], 5: [], 6: []}\n",
      "\n",
      "\n",
      "\n",
      "original ranks:  {0: [0], 1: [1, 3], 2: [2, 7, 6, 4, 8, 9], 3: [5]}\n",
      "original edges:  [(0, 1), (1, 2), (2, 3), (0, 3), (4, 5), (5, 6), (6, 7), (7, 1), (1, 6), (4, 1), (4, 3), (1, 8), (8, 9), (9, 1), (2, 9)]\n",
      "response ranks: {0: [0], 1: [3, 1], 2: [4, 9, 2, 6, 7, 8], 3: [5]}\n",
      "\n",
      "\n",
      "\n",
      "original ranks:  {0: [0], 1: [1, 3], 2: [2, 7, 6, 4, 8, 9], 3: [5]}\n",
      "original edges:  [(0, 1), (1, 2), (2, 3), (0, 3), (4, 5), (5, 6), (6, 7), (7, 1), (1, 6), (4, 1), (4, 3), (1, 8), (8, 9), (9, 1), (2, 9)]\n",
      "response ranks: {0: [0], 1: [3, 1], 2: [2, 4, 6, 7, 8, 9], 3: [5]}\n",
      "\n",
      "\n",
      "\n",
      "original ranks:  {0: [0], 1: [1, 3], 2: [2, 7, 6, 4, 8, 9], 3: [5]}\n",
      "original edges:  [(0, 1), (1, 2), (2, 3), (0, 3), (4, 5), (5, 6), (6, 7), (7, 1), (1, 6), (4, 1), (4, 3), (1, 8), (8, 9), (9, 1), (2, 9)]\n",
      "response ranks: {0: [0], 1: [3, 1], 2: [4, 2, 8, 7, 6, 9], 3: [5]}\n",
      "\n",
      "\n",
      "\n"
     ]
    }
   ],
   "source": [
    "for ans in improved_answers:\n",
    "    q = ans[\"query\"]\n",
    "    print(\"original ranks: \", queries[q][\"ranks\"])\n",
    "    print(\"original edges: \", queries[q][\"edges\"])\n",
    "    print(\"response ranks:\", answers[q])\n",
    "    print(\"\\n\\n\")\n",
    "    # break\n",
    "    "
   ]
  }
 ],
 "metadata": {
  "kernelspec": {
   "display_name": "benchmark-datasets",
   "language": "python",
   "name": "python3"
  },
  "language_info": {
   "codemirror_mode": {
    "name": "ipython",
    "version": 3
   },
   "file_extension": ".py",
   "mimetype": "text/x-python",
   "name": "python",
   "nbconvert_exporter": "python",
   "pygments_lexer": "ipython3",
   "version": "3.9.12"
  },
  "orig_nbformat": 4,
  "vscode": {
   "interpreter": {
    "hash": "5872384cb7990bed35a3d56a9d011194c434ba90616f398717c5f0d1ded67067"
   }
  }
 },
 "nbformat": 4,
 "nbformat_minor": 2
}
