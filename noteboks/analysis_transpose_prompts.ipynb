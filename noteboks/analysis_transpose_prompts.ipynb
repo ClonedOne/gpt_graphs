{
 "cells": [
  {
   "cell_type": "code",
   "execution_count": null,
   "metadata": {},
   "outputs": [],
   "source": [
    "%load_ext autoreload\n",
    "%autoreload 2"
   ]
  },
  {
   "cell_type": "code",
   "execution_count": null,
   "metadata": {},
   "outputs": [],
   "source": [
    "import os\n",
    "os.chdir(\"../\")"
   ]
  },
  {
   "cell_type": "code",
   "execution_count": null,
   "metadata": {},
   "outputs": [],
   "source": [
    "import ast\n",
    "import yaml\n",
    "import json\n",
    "import numpy as np\n",
    "import pandas as pd\n",
    "import seaborn as sns\n",
    "import matplotlib.pyplot as plt\n",
    "from util import read_files\n",
    "from util import count_edge_crossings\n",
    "from util import bfs"
   ]
  },
  {
   "attachments": {},
   "cell_type": "markdown",
   "metadata": {},
   "source": [
    "# Analysis of answers for `transpose_prompts`\n"
   ]
  },
  {
   "attachments": {},
   "cell_type": "markdown",
   "metadata": {},
   "source": [
    "## Load and clean the answers"
   ]
  },
  {
   "cell_type": "code",
   "execution_count": null,
   "metadata": {},
   "outputs": [],
   "source": [
    "answer_dir = os.path.join(\"answers\", \"transpose_prompts3\")"
   ]
  },
  {
   "cell_type": "code",
   "execution_count": null,
   "metadata": {},
   "outputs": [],
   "source": [
    "has_copy_code = []\n",
    "no_copy_code = []\n",
    "\n",
    "for answer_file in sorted(os.listdir(answer_dir)):\n",
    "    answer_file_path = os.path.join(answer_dir, answer_file)\n",
    "\n",
    "    answer_str = open(answer_file_path, \"r\").read().strip()\n",
    "\n",
    "    if \"Copy code\" in answer_str:\n",
    "        has_copy_code.append(answer_file)\n",
    "    else:\n",
    "        no_copy_code.append(answer_file)\n",
    "\n",
    "print(\"Has copy code: \", len(has_copy_code))\n",
    "print(\"No copy code: \", len(no_copy_code))"
   ]
  },
  {
   "attachments": {},
   "cell_type": "markdown",
   "metadata": {},
   "source": [
    "The files that contain the stirng \"Copy code\" contain the answer formatted in a code block. These are likely to contain a potentially appropriate answer to the query.\n",
    "Files containing only unstructured text are less likely to contain valid answers and will be analyzed separately."
   ]
  },
  {
   "cell_type": "code",
   "execution_count": null,
   "metadata": {},
   "outputs": [],
   "source": [
    "answers = {}\n",
    "missed = {}\n",
    "\n",
    "for answer_file in sorted(has_copy_code):\n",
    "    answer_file_path = os.path.join(answer_dir, answer_file)\n",
    "    answer_str = open(answer_file_path, \"r\").read().strip()\n",
    "\n",
    "    # print(answer_file)\n",
    "    # print(answer_str)\n",
    "\n",
    "    answer_str = answer_str.split(\"Copy code\")[1].strip()\n",
    "\n",
    "    if \"ranks =\" in answer_str:\n",
    "        answer_str = answer_str.split(\"ranks =\")[1].strip()\n",
    "        answer_str = answer_str.split(\"}\")[0].strip()\n",
    "        answer_str = answer_str + \"}\"\n",
    "\n",
    "    try:\n",
    "        answer_dict = yaml.safe_load(answer_str)\n",
    "    except:\n",
    "        try:\n",
    "            answer_dict = json.loads(answer_str)\n",
    "        except:\n",
    "            try:\n",
    "                answer_dict = ast.literal_eval(answer_str)\n",
    "            except:\n",
    "                missed[answer_file] = answer_str\n",
    "                continue\n",
    "    \n",
    "    # print(answer_dict)\n",
    "    answers[answer_file] = answer_dict\n",
    "    # print()\n",
    "    # break\n",
    "\n",
    "print(\"Missed: \", len(missed))\n",
    "print(\"Answers: \", len(answers))"
   ]
  },
  {
   "attachments": {},
   "cell_type": "markdown",
   "metadata": {},
   "source": [
    "Let's now look at the other files."
   ]
  },
  {
   "cell_type": "code",
   "execution_count": null,
   "metadata": {},
   "outputs": [],
   "source": [
    "additional_answers = {}\n",
    "additional_missed = {}\n",
    "\n",
    "for answer_file in sorted(no_copy_code):\n",
    "    answer_file_path = os.path.join(answer_dir, answer_file)\n",
    "    answer_str = open(answer_file_path, \"r\").read().strip()\n",
    "    \n",
    "    if \"ranks =\" in answer_str:\n",
    "        answer_str = answer_str.split(\"ranks =\")[1].strip()\n",
    "        answer_str = answer_str.split(\"}\")[0].strip()\n",
    "        answer_str = answer_str + \"}\"\n",
    "\n",
    "    try:\n",
    "        answer_dict = yaml.safe_load(answer_str)\n",
    "    except:\n",
    "        try:\n",
    "            answer_dict = json.loads(answer_str)\n",
    "        except:\n",
    "            try:\n",
    "                answer_dict = ast.literal_eval(answer_str)\n",
    "            except:\n",
    "                additional_missed[answer_file] = answer_str\n",
    "                continue\n",
    "    \n",
    "    # print(answer_dict)\n",
    "    additional_answers[answer_file] = answer_dict\n",
    "\n",
    "print(\"Additional missed: \", len(additional_missed))\n",
    "print(\"Additional answers: \", len(additional_answers))"
   ]
  },
  {
   "attachments": {},
   "cell_type": "markdown",
   "metadata": {},
   "source": [
    "We can now merge the parsed answers together."
   ]
  },
  {
   "cell_type": "code",
   "execution_count": null,
   "metadata": {},
   "outputs": [],
   "source": [
    "answers.update(additional_answers)\n",
    "missed.update(additional_missed)\n",
    "\n",
    "# Safety check\n",
    "non_dict = []\n",
    "for k,v in answers.items():\n",
    "    if type(v) != dict:\n",
    "        print(\"{} does not have a dict : {}\".format(k, v))\n",
    "        non_dict.append((k,v))\n",
    "\n",
    "for (k,v) in non_dict:\n",
    "    del answers[k]\n",
    "    missed[k] = v\n",
    "\n",
    "print(\"Total missed: \", len(missed))\n",
    "print(\"Total answers: \", len(answers))"
   ]
  },
  {
   "attachments": {},
   "cell_type": "markdown",
   "metadata": {},
   "source": [
    "## Load and clean the prompts"
   ]
  },
  {
   "cell_type": "code",
   "execution_count": null,
   "metadata": {},
   "outputs": [],
   "source": [
    "queries_dir = os.path.join(\"queries\", \"transpose_prompts3\")"
   ]
  },
  {
   "cell_type": "code",
   "execution_count": null,
   "metadata": {},
   "outputs": [],
   "source": [
    "queries = {}\n",
    "\n",
    "for query_file in sorted(os.listdir(queries_dir)):\n",
    "    queries[query_file] = {}\n",
    "    query_file_path = os.path.join(queries_dir, query_file)\n",
    "\n",
    "    query_str = open(query_file_path, \"r\").read().strip()\n",
    "\n",
    "    query_edges = query_str.split(\"edges = \")[1]\n",
    "    query_edges = query_edges.split(\"\\n\")[0].strip()\n",
    "    query_edges = ast.literal_eval(query_edges)\n",
    "\n",
    "    query_ranks = query_str.split(\"ranks = \")[1]\n",
    "    query_ranks = query_ranks.split(\"\\n\\n\")[0].strip()\n",
    "    query_ranks = query_ranks.split(\"\\n\")\n",
    "    # From each substring remove \"Layer \" at the \n",
    "    # beginning and add \",\" at the end\n",
    "    query_ranks = [r[6:].strip() + \",\" for r in query_ranks]\n",
    "    query_ranks = \"\".join(query_ranks)\n",
    "    query_ranks = \"{\" + query_ranks[:-1] + \"}\"\n",
    "    query_ranks = ast.literal_eval(query_ranks)\n",
    "    \n",
    "    queries[query_file][\"edges\"] = query_edges\n",
    "    queries[query_file][\"ranks\"] = query_ranks\n",
    "\n",
    "print(\"Number of queries: \", len(queries))"
   ]
  },
  {
   "attachments": {},
   "cell_type": "markdown",
   "metadata": {},
   "source": [
    "## Safety check: all nodes are there"
   ]
  },
  {
   "cell_type": "code",
   "execution_count": null,
   "metadata": {},
   "outputs": [],
   "source": [
    "all_nodes_queries = {}\n",
    "for query_file, query_dict in queries.items():\n",
    "    all_nodes_queries[query_file] = set()\n",
    "    for edge in query_dict[\"edges\"]:\n",
    "        all_nodes_queries[query_file].add(edge[0])\n",
    "        all_nodes_queries[query_file].add(edge[1])\n",
    "\n",
    "# Print the number of nodes in the graphs of each query\n",
    "all_nodes_orig_number = [len(all_nodes_queries[query_file]) for query_file in all_nodes_queries]\n",
    "print(\"\\nUnique number of nodes in the graphs of each query:\")\n",
    "print(np.unique(all_nodes_orig_number, return_counts=True))\n",
    "\n",
    "all_nodes_answers = {}\n",
    "for answer_file, answer_dict in answers.items():\n",
    "    all_nodes_answers[answer_file] = set()\n",
    "    for rank, nodes in answer_dict.items():\n",
    "        for node in nodes:\n",
    "            all_nodes_answers[answer_file].add(node)\n",
    "\n",
    "# Print the number of nodes in the graphs of each answer\n",
    "all_nodes_answer_number = [len(all_nodes_answers[answer_file]) for answer_file in all_nodes_answers]\n",
    "print(\"\\nUnique number of nodes in the graphs of each answer:\")\n",
    "print(np.unique(all_nodes_answer_number, return_counts=True))\n",
    "\n",
    "correct_nodes_answers = {}\n",
    "incorrect_nodes_answers = {}\n",
    "for answer_file, answer_dict in answers.items():\n",
    "    answer_nodes = all_nodes_answers[answer_file]\n",
    "    query_nodes = all_nodes_queries[answer_file]\n",
    "\n",
    "    if answer_nodes == query_nodes:\n",
    "        correct_nodes_answers[answer_file] = answer_dict\n",
    "    else:\n",
    "        incorrect_nodes_answers[answer_file] = answer_dict\n",
    "\n",
    "print(\"\\nCorrect nodes answers: \", len(correct_nodes_answers))\n",
    "print(\"Incorrect nodes answers: \", len(incorrect_nodes_answers))"
   ]
  },
  {
   "attachments": {},
   "cell_type": "markdown",
   "metadata": {},
   "source": [
    "We can now take a look at the different alterations in those graphs whose number of nodes is different than it should be."
   ]
  },
  {
   "cell_type": "code",
   "execution_count": null,
   "metadata": {},
   "outputs": [],
   "source": [
    "increased_nodes_answers = {}\n",
    "decreased_nodes_answers = {}\n",
    "\n",
    "for answer_file, answer_dict in incorrect_nodes_answers.items():\n",
    "    answer_nodes = all_nodes_answers[answer_file]\n",
    "    query_nodes = all_nodes_queries[answer_file]\n",
    "\n",
    "    if len(answer_nodes) > len(query_nodes):\n",
    "        increased_nodes_answers[answer_file] = answer_dict\n",
    "    else:\n",
    "        decreased_nodes_answers[answer_file] = answer_dict\n",
    "\n",
    "print(\"\\nIncreased nodes answers: \", len(increased_nodes_answers))\n",
    "print(\"Decreased nodes answers: \", len(decreased_nodes_answers))"
   ]
  },
  {
   "cell_type": "code",
   "execution_count": null,
   "metadata": {},
   "outputs": [],
   "source": []
  },
  {
   "cell_type": "code",
   "execution_count": null,
   "metadata": {},
   "outputs": [],
   "source": [
    "WRONG_FORMAT = -1\n",
    "MISSING_NODES = -2\n",
    "EXTRA_NODES = -3"
   ]
  },
  {
   "cell_type": "code",
   "execution_count": null,
   "metadata": {},
   "outputs": [],
   "source": [
    "results = []\n",
    "for i, query in enumerate(queries):\n",
    "\n",
    "\n",
    "    c = count_edge_crossings(queries[query][\"edges\"], queries[query][\"ranks\"])\n",
    "    if query in correct_nodes_answers:\n",
    "        c2 = count_edge_crossings(queries[query][\"edges\"], answers[query])\n",
    "    elif query in increased_nodes_answers:\n",
    "        c2 = EXTRA_NODES\n",
    "    elif query in decreased_nodes_answers:\n",
    "        c2 = MISSING_NODES\n",
    "    else:\n",
    "        c2 = WRONG_FORMAT\n",
    "    # print(\"original crossings: \", c, \"new crossings: \", c2)\n",
    "    results.append({\n",
    "        \"query\": query,\n",
    "        \"original_crossings\": c,\n",
    "        \"new_crossings\": c2,\n",
    "    })\n",
    "\n",
    "\n",
    "    # break\n",
    "\n",
    "results_df = pd.DataFrame.from_dict(results)"
   ]
  },
  {
   "cell_type": "code",
   "execution_count": null,
   "metadata": {},
   "outputs": [],
   "source": [
    "results_df"
   ]
  },
  {
   "cell_type": "code",
   "execution_count": null,
   "metadata": {},
   "outputs": [],
   "source": [
    "import seaborn as sns\n",
    "import matplotlib.pyplot as plt\n",
    "import pandas as pd\n",
    "\n",
    "# Generate some sample data as a dictionary\n",
    "data = {}\n",
    "\n",
    "# Count the number of entries for which new_crossings is positive and new_crossings < original_crossings\n",
    "improved_answers = list(filter(lambda x: x[\"new_crossings\"] >= 0 and x[\"new_crossings\"] < x[\"original_crossings\"], results))\n",
    "data[\"Improved answers\"] = len(improved_answers)\n",
    "\n",
    "# Count the number of entries for which new_crossings is positive and new_crossings > original_crossings\n",
    "data[\"Worsened answers\"] = len(list(filter(lambda x: x[\"new_crossings\"] >= 0 and x[\"new_crossings\"] > x[\"original_crossings\"], results)))\n",
    "\n",
    "# Count the number of entries for which new_crossings is positive and new_crossings == original_crossings\n",
    "data[\"Equivalent answers\"] = len(list(filter(lambda x: x[\"new_crossings\"] >= 0 and x[\"new_crossings\"] == x[\"original_crossings\"], results)))\n",
    "\n",
    "# Count the number of malformed answers\n",
    "data[\"Malformed answers\"] = len(list(filter(lambda x: x[\"new_crossings\"] == WRONG_FORMAT, results)))\n",
    "\n",
    "# Count the number of answers with missing nodes\n",
    "data[\"Missing nodes\"] = len(list(filter(lambda x: x[\"new_crossings\"] == MISSING_NODES, results)))\n",
    "\n",
    "# Count the number of answers with extra nodes\n",
    "data[\"Extra nodes\"] = len(list(filter(lambda x: x[\"new_crossings\"] == EXTRA_NODES, results)))\n",
    "\n",
    "# Convert the dictionary to a Pandas DataFrame for plotting\n",
    "df = pd.DataFrame.from_dict(data, orient='index', columns=['Value'])\n",
    "\n",
    "sns.set(rc={'figure.figsize':(15,3)})\n",
    "\n",
    "# Use Seaborn to create a bar chart\n",
    "sns.barplot(x=df.index, y='Value', data=df, color='skyblue')\n",
    "\n",
    "# Set the labels for the x and y axes\n",
    "# plt.xSabel('Label')\n",
    "plt.ylabel('Count')\n",
    "\n",
    "# Show the plot\n",
    "plt.show()"
   ]
  },
  {
   "cell_type": "code",
   "execution_count": null,
   "metadata": {},
   "outputs": [],
   "source": [
    "for ans in improved_answers:\n",
    "    q = ans[\"query\"]\n",
    "    print(\"original ranks: \", queries[q][\"ranks\"])\n",
    "    print(\"original edges: \", queries[q][\"edges\"])\n",
    "    print(\"response ranks:\", answers[q])\n",
    "    print(\"\\n\\n\")\n",
    "    # break\n",
    "    "
   ]
  },
  {
   "cell_type": "code",
   "execution_count": null,
   "metadata": {},
   "outputs": [],
   "source": [
    "def visualize_graph(ranks:dict, edges:list):\n",
    "    import networkx as nx\n",
    "\n",
    "    edges_out_of_node = {}\n",
    "    for edge in edges:\n",
    "        if edge[0] not in edges_out_of_node:\n",
    "            edges_out_of_node[edge[0]] = []\n",
    "        edges_out_of_node[edge[0]].append(edge[1])\n",
    "        if edge[1] not in edges_out_of_node:\n",
    "            edges_out_of_node[edge[1]] = []\n",
    "        edges_out_of_node[edge[1]].append(edge[0])\n",
    "\n",
    "    G = nx.Graph()\n",
    "    for (layer_n, layer) in ranks.items():\n",
    "        G.add_nodes_from(layer, layer=layer_n)\n",
    "        for node in layer:\n",
    "            if node in edges_out_of_node:\n",
    "                for edge_target in edges_out_of_node[node]:\n",
    "                    G.add_edge(node, edge_target)\n",
    "    pos = nx.multipartite_layout(G, subset_key=\"layer\")\n",
    "    nx.draw(G, pos, with_labels=True)\n",
    "    plt.show()\n",
    "        "
   ]
  },
  {
   "cell_type": "code",
   "execution_count": null,
   "metadata": {},
   "outputs": [],
   "source": [
    "i = 0\n",
    "for k, q in queries.items():\n",
    "    print(k, q)\n",
    "    visualize_graph(q[\"ranks\"], q[\"edges\"])\n",
    "    print(\"\\n\\n\")\n",
    "    i += 1\n",
    "    if i == 10:\n",
    "        break"
   ]
  },
  {
   "cell_type": "code",
   "execution_count": null,
   "metadata": {},
   "outputs": [],
   "source": []
  }
 ],
 "metadata": {
  "kernelspec": {
   "display_name": "gpt_graphs",
   "language": "python",
   "name": "python3"
  },
  "language_info": {
   "codemirror_mode": {
    "name": "ipython",
    "version": 3
   },
   "file_extension": ".py",
   "mimetype": "text/x-python",
   "name": "python",
   "nbconvert_exporter": "python",
   "pygments_lexer": "ipython3",
   "version": "3.9.16"
  },
  "orig_nbformat": 4,
  "vscode": {
   "interpreter": {
    "hash": "dafb023fb61a9cb21231b21edf636d8c395a3f8533b033bfdca443941bcc4563"
   }
  }
 },
 "nbformat": 4,
 "nbformat_minor": 2
}
