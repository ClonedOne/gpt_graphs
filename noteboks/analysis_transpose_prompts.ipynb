{
 "cells": [
  {
   "cell_type": "code",
   "execution_count": 1,
   "metadata": {},
   "outputs": [],
   "source": [
    "%load_ext autoreload\n",
    "%autoreload 2"
   ]
  },
  {
   "cell_type": "code",
   "execution_count": 2,
   "metadata": {},
   "outputs": [],
   "source": [
    "import os\n",
    "os.chdir(\"../\")"
   ]
  },
  {
   "cell_type": "code",
   "execution_count": 3,
   "metadata": {},
   "outputs": [],
   "source": [
    "import ast\n",
    "import yaml\n",
    "import json\n",
    "import numpy as np\n",
    "import pandas as pd\n",
    "import seaborn as sns\n",
    "import matplotlib.pyplot as plt"
   ]
  },
  {
   "attachments": {},
   "cell_type": "markdown",
   "metadata": {},
   "source": [
    "# Analysis of answers for `transpose_prompts`\n"
   ]
  },
  {
   "attachments": {},
   "cell_type": "markdown",
   "metadata": {},
   "source": [
    "## Load and clean the answers"
   ]
  },
  {
   "cell_type": "code",
   "execution_count": 4,
   "metadata": {},
   "outputs": [],
   "source": [
    "answer_dir = os.path.join(\"answers\", \"transpose_prompts\")"
   ]
  },
  {
   "cell_type": "code",
   "execution_count": 5,
   "metadata": {},
   "outputs": [
    {
     "name": "stdout",
     "output_type": "stream",
     "text": [
      "Has copy code:  192\n",
      "No copy code:  15\n"
     ]
    }
   ],
   "source": [
    "has_copy_code = []\n",
    "no_copy_code = []\n",
    "\n",
    "for answer_file in sorted(os.listdir(answer_dir)):\n",
    "    answer_file_path = os.path.join(answer_dir, answer_file)\n",
    "\n",
    "    answer_str = open(answer_file_path, \"r\").read().strip()\n",
    "\n",
    "    if \"Copy code\" in answer_str:\n",
    "        has_copy_code.append(answer_file)\n",
    "    else:\n",
    "        no_copy_code.append(answer_file)\n",
    "\n",
    "print(\"Has copy code: \", len(has_copy_code))\n",
    "print(\"No copy code: \", len(no_copy_code))"
   ]
  },
  {
   "attachments": {},
   "cell_type": "markdown",
   "metadata": {},
   "source": [
    "The files that contain the stirng \"Copy code\" contain the answer formatted in a code block. These are likely to contain a potentially appropriate answer to the query.\n",
    "Files containing only unstructured text are less likely to contain valid answers and will be analyzed separately."
   ]
  },
  {
   "cell_type": "code",
   "execution_count": 6,
   "metadata": {},
   "outputs": [
    {
     "name": "stdout",
     "output_type": "stream",
     "text": [
      "Missed:  7\n",
      "Answers:  185\n"
     ]
    }
   ],
   "source": [
    "answers = {}\n",
    "missed = {}\n",
    "\n",
    "for answer_file in sorted(has_copy_code):\n",
    "    answer_file_path = os.path.join(answer_dir, answer_file)\n",
    "    answer_str = open(answer_file_path, \"r\").read().strip()\n",
    "\n",
    "    # print(answer_file)\n",
    "    # print(answer_str)\n",
    "\n",
    "    answer_str = answer_str.split(\"Copy code\")[1].strip()\n",
    "\n",
    "    if \"ranks =\" in answer_str:\n",
    "        answer_str = answer_str.split(\"ranks =\")[1].strip()\n",
    "        answer_str = answer_str.split(\"}\")[0].strip()\n",
    "        answer_str = answer_str + \"}\"\n",
    "\n",
    "    try:\n",
    "        answer_dict = yaml.safe_load(answer_str)\n",
    "    except:\n",
    "        try:\n",
    "            answer_dict = json.loads(answer_str)\n",
    "        except:\n",
    "            try:\n",
    "                answer_dict = ast.literal_eval(answer_str)\n",
    "            except:\n",
    "                missed[answer_file] = answer_str\n",
    "                continue\n",
    "    \n",
    "    # print(answer_dict)\n",
    "    answers[answer_file] = answer_dict\n",
    "    # print()\n",
    "    # break\n",
    "\n",
    "print(\"Missed: \", len(missed))\n",
    "print(\"Answers: \", len(answers))"
   ]
  },
  {
   "attachments": {},
   "cell_type": "markdown",
   "metadata": {},
   "source": [
    "Let's now look at the other files."
   ]
  },
  {
   "cell_type": "code",
   "execution_count": 7,
   "metadata": {},
   "outputs": [
    {
     "name": "stdout",
     "output_type": "stream",
     "text": [
      "Additional missed:  0\n",
      "Additional answers:  15\n"
     ]
    }
   ],
   "source": [
    "additional_answers = {}\n",
    "additional_missed = {}\n",
    "\n",
    "for answer_file in sorted(no_copy_code):\n",
    "    answer_file_path = os.path.join(answer_dir, answer_file)\n",
    "    answer_str = open(answer_file_path, \"r\").read().strip()\n",
    "    \n",
    "    if \"ranks =\" in answer_str:\n",
    "        answer_str = answer_str.split(\"ranks =\")[1].strip()\n",
    "        answer_str = answer_str.split(\"}\")[0].strip()\n",
    "        answer_str = answer_str + \"}\"\n",
    "\n",
    "    try:\n",
    "        answer_dict = yaml.safe_load(answer_str)\n",
    "    except:\n",
    "        try:\n",
    "            answer_dict = json.loads(answer_str)\n",
    "        except:\n",
    "            try:\n",
    "                answer_dict = ast.literal_eval(answer_str)\n",
    "            except:\n",
    "                additional_missed[answer_file] = answer_str\n",
    "                continue\n",
    "    \n",
    "    # print(answer_dict)\n",
    "    additional_answers[answer_file] = answer_dict\n",
    "\n",
    "print(\"Additional missed: \", len(additional_missed))\n",
    "print(\"Additional answers: \", len(additional_answers))"
   ]
  },
  {
   "attachments": {},
   "cell_type": "markdown",
   "metadata": {},
   "source": [
    "We can now merge the parsed answers together."
   ]
  },
  {
   "cell_type": "code",
   "execution_count": 10,
   "metadata": {},
   "outputs": [
    {
     "name": "stdout",
     "output_type": "stream",
     "text": [
      "grafo8177.88.txt does not have a dict : len(ranks) sorted_}\n",
      "Total missed:  8\n",
      "Total answers:  199\n"
     ]
    }
   ],
   "source": [
    "answers.update(additional_answers)\n",
    "missed.update(additional_missed)\n",
    "\n",
    "# Safety check\n",
    "non_dict = []\n",
    "for k,v in answers.items():\n",
    "    if type(v) != dict:\n",
    "        print(\"{} does not have a dict : {}\".format(k, v))\n",
    "        non_dict.append((k,v))\n",
    "\n",
    "for (k,v) in non_dict:\n",
    "    del answers[k]\n",
    "    missed[k] = v\n",
    "\n",
    "print(\"Total missed: \", len(missed))\n",
    "print(\"Total answers: \", len(answers))"
   ]
  },
  {
   "attachments": {},
   "cell_type": "markdown",
   "metadata": {},
   "source": [
    "## Load and clean the prompts"
   ]
  },
  {
   "cell_type": "code",
   "execution_count": 11,
   "metadata": {},
   "outputs": [],
   "source": [
    "queries_dir = os.path.join(\"queries\", \"transpose_prompts\")"
   ]
  },
  {
   "cell_type": "code",
   "execution_count": 12,
   "metadata": {},
   "outputs": [
    {
     "name": "stdout",
     "output_type": "stream",
     "text": [
      "Number of queries:  207\n"
     ]
    }
   ],
   "source": [
    "queries = {}\n",
    "\n",
    "for query_file in sorted(os.listdir(queries_dir)):\n",
    "    queries[query_file] = {}\n",
    "    query_file_path = os.path.join(queries_dir, query_file)\n",
    "\n",
    "    query_str = open(query_file_path, \"r\").read().strip()\n",
    "\n",
    "    query_edges = query_str.split(\"edges = \")[1]\n",
    "    query_edges = query_edges.split(\"\\n\")[0].strip()\n",
    "    query_edges = ast.literal_eval(query_edges)\n",
    "\n",
    "    query_ranks = query_str.split(\"ranks = \")[1]\n",
    "    query_ranks = query_ranks.split(\"\\n\")[0].strip()\n",
    "    query_ranks = ast.literal_eval(query_ranks)\n",
    "    \n",
    "    queries[query_file][\"edges\"] = query_edges\n",
    "    queries[query_file][\"ranks\"] = query_ranks\n",
    "\n",
    "print(\"Number of queries: \", len(queries))"
   ]
  },
  {
   "attachments": {},
   "cell_type": "markdown",
   "metadata": {},
   "source": [
    "## Safety check: all nodes are there"
   ]
  },
  {
   "cell_type": "code",
   "execution_count": 13,
   "metadata": {},
   "outputs": [
    {
     "name": "stdout",
     "output_type": "stream",
     "text": [
      "\n",
      "Unique number of nodes in the graphs of each query:\n",
      "(array([10, 11]), array([ 79, 128]))\n",
      "\n",
      "Unique number of nodes in the graphs of each answer:\n",
      "(array([10, 11]), array([ 81, 118]))\n",
      "\n",
      "Correct nodes answers:  195\n",
      "Incorrect nodes answers:  4\n"
     ]
    }
   ],
   "source": [
    "all_nodes_queries = {}\n",
    "for query_file, query_dict in queries.items():\n",
    "    all_nodes_queries[query_file] = set()\n",
    "    for edge in query_dict[\"edges\"]:\n",
    "        all_nodes_queries[query_file].add(edge[0])\n",
    "        all_nodes_queries[query_file].add(edge[1])\n",
    "\n",
    "# Print the number of nodes in the graphs of each query\n",
    "all_nodes_orig_number = [len(all_nodes_queries[query_file]) for query_file in all_nodes_queries]\n",
    "print(\"\\nUnique number of nodes in the graphs of each query:\")\n",
    "print(np.unique(all_nodes_orig_number, return_counts=True))\n",
    "\n",
    "all_nodes_answers = {}\n",
    "for answer_file, answer_dict in answers.items():\n",
    "    all_nodes_answers[answer_file] = set()\n",
    "    for rank, nodes in answer_dict.items():\n",
    "        for node in nodes:\n",
    "            all_nodes_answers[answer_file].add(node)\n",
    "\n",
    "# Print the number of nodes in the graphs of each answer\n",
    "all_nodes_answer_number = [len(all_nodes_answers[answer_file]) for answer_file in all_nodes_answers]\n",
    "print(\"\\nUnique number of nodes in the graphs of each answer:\")\n",
    "print(np.unique(all_nodes_answer_number, return_counts=True))\n",
    "\n",
    "correct_nodes_answers = {}\n",
    "incorrect_nodes_answers = {}\n",
    "for answer_file, answer_dict in answers.items():\n",
    "    answer_nodes = all_nodes_answers[answer_file]\n",
    "    query_nodes = all_nodes_queries[answer_file]\n",
    "\n",
    "    if answer_nodes == query_nodes:\n",
    "        correct_nodes_answers[answer_file] = answer_dict\n",
    "    else:\n",
    "        incorrect_nodes_answers[answer_file] = answer_dict\n",
    "\n",
    "print(\"\\nCorrect nodes answers: \", len(correct_nodes_answers))\n",
    "print(\"Incorrect nodes answers: \", len(incorrect_nodes_answers))"
   ]
  },
  {
   "attachments": {},
   "cell_type": "markdown",
   "metadata": {},
   "source": [
    "We can now take a look at the different alterations in those graphs whose number of nodes is different than it should be."
   ]
  },
  {
   "cell_type": "code",
   "execution_count": 14,
   "metadata": {},
   "outputs": [
    {
     "name": "stdout",
     "output_type": "stream",
     "text": [
      "\n",
      "Increased nodes answers:  0\n",
      "Decreased nodes answers:  4\n"
     ]
    }
   ],
   "source": [
    "increased_nodes_answers = {}\n",
    "decreased_nodes_answers = {}\n",
    "\n",
    "for answer_file, answer_dict in incorrect_nodes_answers.items():\n",
    "    answer_nodes = all_nodes_answers[answer_file]\n",
    "    query_nodes = all_nodes_queries[answer_file]\n",
    "\n",
    "    if len(answer_nodes) > len(query_nodes):\n",
    "        increased_nodes_answers[answer_file] = answer_dict\n",
    "    else:\n",
    "        decreased_nodes_answers[answer_file] = answer_dict\n",
    "\n",
    "print(\"\\nIncreased nodes answers: \", len(increased_nodes_answers))\n",
    "print(\"Decreased nodes answers: \", len(decreased_nodes_answers))"
   ]
  },
  {
   "cell_type": "code",
   "execution_count": null,
   "metadata": {},
   "outputs": [],
   "source": []
  }
 ],
 "metadata": {
  "kernelspec": {
   "display_name": "gpt_graphs",
   "language": "python",
   "name": "python3"
  },
  "language_info": {
   "codemirror_mode": {
    "name": "ipython",
    "version": 3
   },
   "file_extension": ".py",
   "mimetype": "text/x-python",
   "name": "python",
   "nbconvert_exporter": "python",
   "pygments_lexer": "ipython3",
   "version": "3.9.16"
  },
  "orig_nbformat": 4,
  "vscode": {
   "interpreter": {
    "hash": "dafb023fb61a9cb21231b21edf636d8c395a3f8533b033bfdca443941bcc4563"
   }
  }
 },
 "nbformat": 4,
 "nbformat_minor": 2
}
