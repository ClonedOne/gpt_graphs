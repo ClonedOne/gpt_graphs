{
 "cells": [
  {
   "cell_type": "code",
   "execution_count": 1,
   "metadata": {},
   "outputs": [],
   "source": [
    "%load_ext autoreload\n",
    "%autoreload 2"
   ]
  },
  {
   "cell_type": "code",
   "execution_count": 2,
   "metadata": {},
   "outputs": [],
   "source": [
    "import os\n",
    "os.chdir(\"../\")"
   ]
  },
  {
   "cell_type": "code",
   "execution_count": 3,
   "metadata": {},
   "outputs": [],
   "source": [
    "import ast\n",
    "import yaml\n",
    "import json\n",
    "import numpy as np\n",
    "import pandas as pd\n",
    "import networkx as nx\n",
    "import seaborn as sns\n",
    "import matplotlib.pyplot as plt\n",
    "\n",
    "from typing import Tuple\n",
    "from util import count_edge_crossings"
   ]
  },
  {
   "attachments": {},
   "cell_type": "markdown",
   "metadata": {},
   "source": [
    "# Analysis of `transpose_prompts_median`"
   ]
  },
  {
   "attachments": {},
   "cell_type": "markdown",
   "metadata": {},
   "source": [
    "## Constants and helpers"
   ]
  },
  {
   "cell_type": "code",
   "execution_count": 4,
   "metadata": {},
   "outputs": [],
   "source": [
    "# Some constants\n",
    "WRONG_FORMAT = -1\n",
    "MISSING_NODES = -2\n",
    "EXTRA_NODES = -3\n",
    "WRONG_RANKS = -4"
   ]
  },
  {
   "cell_type": "code",
   "execution_count": 5,
   "metadata": {},
   "outputs": [],
   "source": [
    "def read_rank_response(answer: str) -> dict:\n",
    "    answer = answer.split(\"\\n\")\n",
    "    answer_ranks = {}\n",
    "    for line in answer:\n",
    "        if line == \"\":\n",
    "            continue\n",
    "        rank = int(line.split(\"Layer \")[1].split(\":\")[0].strip())\n",
    "        nodes = ast.literal_eval(line.split(\":\")[1].strip())\n",
    "        answer_ranks[rank] = nodes\n",
    "\n",
    "    return answer_ranks\n",
    "\n",
    "\n",
    "def check_nodes(answers: dict, queries: dict) -> Tuple[dict, dict, dict, dict]:\n",
    "    all_nodes_queries = {}\n",
    "    for query_file, query_dict in queries.items():\n",
    "        all_nodes_queries[query_file] = set()\n",
    "        for edge in query_dict[\"edges\"]:\n",
    "            all_nodes_queries[query_file].add(edge[0])\n",
    "            all_nodes_queries[query_file].add(edge[1])\n",
    "\n",
    "    # Print the number of nodes in the graphs of each query\n",
    "    all_nodes_orig_number = [\n",
    "        len(all_nodes_queries[query_file]) for query_file in all_nodes_queries\n",
    "    ]\n",
    "    print(\"\\nUnique number of nodes in the graphs of each query:\")\n",
    "    print(np.unique(all_nodes_orig_number, return_counts=True))\n",
    "\n",
    "    all_nodes_answers = {}\n",
    "    for answer_file, answer_dict in answers.items():\n",
    "        all_nodes_answers[answer_file] = set()\n",
    "        for rank, nodes in answer_dict.items():\n",
    "            for node in nodes:\n",
    "                all_nodes_answers[answer_file].add(node)\n",
    "\n",
    "    # Print the number of nodes in the graphs of each answer\n",
    "    all_nodes_answer_number = [\n",
    "        len(all_nodes_answers[answer_file]) for answer_file in all_nodes_answers\n",
    "    ]\n",
    "    print(\"\\nUnique number of nodes in the graphs of each answer:\")\n",
    "    print(np.unique(all_nodes_answer_number, return_counts=True))\n",
    "\n",
    "    correct_nodes_answers = {}\n",
    "    incorrect_nodes_answers = {}\n",
    "    for answer_file, answer_dict in answers.items():\n",
    "        answer_nodes = all_nodes_answers[answer_file]\n",
    "        query_nodes = all_nodes_queries[answer_file]\n",
    "\n",
    "        if answer_nodes == query_nodes:\n",
    "            correct_nodes_answers[answer_file] = answer_dict\n",
    "        else:\n",
    "            incorrect_nodes_answers[answer_file] = answer_dict\n",
    "\n",
    "    print(\"\\nCorrect nodes answers: \", len(correct_nodes_answers))\n",
    "    print(\"Incorrect nodes answers: \", len(incorrect_nodes_answers))\n",
    "\n",
    "    increased_nodes_answers = {}\n",
    "    decreased_nodes_answers = {}\n",
    "\n",
    "    for answer_file, answer_dict in incorrect_nodes_answers.items():\n",
    "        answer_nodes = all_nodes_answers[answer_file]\n",
    "        query_nodes = all_nodes_queries[answer_file]\n",
    "\n",
    "        if len(answer_nodes) > len(query_nodes):\n",
    "            increased_nodes_answers[answer_file] = answer_dict\n",
    "        else:\n",
    "            decreased_nodes_answers[answer_file] = answer_dict\n",
    "\n",
    "    print(\"\\nIncreased nodes answers: \", len(increased_nodes_answers))\n",
    "    print(\"Decreased nodes answers: \", len(decreased_nodes_answers))\n",
    "\n",
    "    return (\n",
    "        correct_nodes_answers,\n",
    "        incorrect_nodes_answers,\n",
    "        increased_nodes_answers,\n",
    "        decreased_nodes_answers,\n",
    "    )\n",
    "\n",
    "\n",
    "def check_ranks(answers: dict, queries: dict) -> Tuple[dict, dict]:\n",
    "    # Check if all the answers have a correct rank assignment\n",
    "    correct_rank_answers = {}\n",
    "    incorrect_rank_answers = {}\n",
    "\n",
    "    for answer_file, answer_dict in answers.items():\n",
    "        query_ranks = queries[answer_file][\"ranks\"]\n",
    "        for rank, nodes in answer_dict.items():\n",
    "            if rank not in query_ranks:\n",
    "                incorrect_rank_answers[answer_file] = answer_dict\n",
    "                break\n",
    "\n",
    "            query_nodes_at_rank = query_ranks[rank]\n",
    "            for node in nodes:\n",
    "                if node not in query_nodes_at_rank:\n",
    "                    incorrect_rank_answers[answer_file] = answer_dict\n",
    "                    break\n",
    "\n",
    "        if answer_file not in incorrect_rank_answers:\n",
    "            correct_rank_answers[answer_file] = answer_dict\n",
    "\n",
    "    print(\"Number of correct rank answers:\", len(correct_rank_answers))\n",
    "    print(\"Number of incorrect rank answers:\", len(incorrect_rank_answers))\n",
    "\n",
    "    return correct_rank_answers, incorrect_rank_answers\n",
    "\n",
    "\n",
    "def visualize_graph(ranks: dict, edges: list, filter_same_rank: False):\n",
    "    plt.figure(figsize=(14, 5))\n",
    "\n",
    "    edges_out_of_node = {}\n",
    "    for edge in edges:\n",
    "        if edge[0] not in edges_out_of_node:\n",
    "            edges_out_of_node[edge[0]] = []\n",
    "        edges_out_of_node[edge[0]].append(edge[1])\n",
    "        if edge[1] not in edges_out_of_node:\n",
    "            edges_out_of_node[edge[1]] = []\n",
    "        edges_out_of_node[edge[1]].append(edge[0])\n",
    "\n",
    "    G = nx.Graph()\n",
    "    for layer_n, layer in ranks.items():\n",
    "        for node in layer:\n",
    "            G.add_node(node, layer=layer_n)\n",
    "\n",
    "    pos = nx.multipartite_layout(G, subset_key=\"layer\")\n",
    "    nodes_draw = nx.draw_networkx_nodes(G, pos)\n",
    "    node_labels_dict = nx.draw_networkx_labels(\n",
    "        G,\n",
    "        pos,\n",
    "        font_color=\"white\",\n",
    "        font_weight=\"bold\",\n",
    "    )\n",
    "\n",
    "    for layer_n, layer in ranks.items():\n",
    "        for node in layer:\n",
    "            if node in edges_out_of_node:\n",
    "                for edge_target in edges_out_of_node[node]:\n",
    "                    if filter_same_rank and edge_target in layer:\n",
    "                        continue\n",
    "                    G.add_edge(node, edge_target)\n",
    "    edges_draw = nx.draw_networkx_edges(G, pos, width=1.0, alpha=0.5)\n",
    "\n",
    "    plt.show()\n",
    "\n",
    "\n",
    "def visualize_results(results: dict, color=\"skyblue\"):\n",
    "    # Generate some sample data as a dictionary\n",
    "    data = {}\n",
    "\n",
    "    # Count the number of entries for which new_crossings is positive and new_crossings < original_crossings\n",
    "    improved_answers = list(\n",
    "        filter(\n",
    "            lambda x: x[\"new_crossings\"] >= 0\n",
    "            and x[\"new_crossings\"] < x[\"original_crossings\"],\n",
    "            results,\n",
    "        )\n",
    "    )\n",
    "    data[\"Improved answers\"] = len(improved_answers)\n",
    "\n",
    "    # Count the number of entries for which new_crossings is positive and new_crossings > original_crossings\n",
    "    worsened_answers = list(\n",
    "        filter(\n",
    "            lambda x: x[\"new_crossings\"] >= 0\n",
    "            and x[\"new_crossings\"] > x[\"original_crossings\"],\n",
    "            results,\n",
    "        )\n",
    "    )\n",
    "    data[\"Worsened answers\"] = len(worsened_answers)\n",
    "\n",
    "    # Count the number of entries for which new_crossings is positive and new_crossings == original_crossings\n",
    "    equivalent_answers = list(\n",
    "        filter(\n",
    "            lambda x: x[\"new_crossings\"] >= 0\n",
    "            and x[\"new_crossings\"] == x[\"original_crossings\"],\n",
    "            results,\n",
    "        )\n",
    "    )\n",
    "    data[\"Equivalent answers\"] = len(equivalent_answers)\n",
    "\n",
    "    # Count the number of changed ranks\n",
    "    changed_ranks = list(\n",
    "        filter(lambda x: x[\"new_crossings\"] == WRONG_RANKS, results)\n",
    "    )\n",
    "    data[\"Changed ranks\"] = len(changed_ranks)\n",
    "\n",
    "    # Count the number of malformed answers\n",
    "    malformed_answers = list(\n",
    "        filter(lambda x: x[\"new_crossings\"] == WRONG_FORMAT, results)\n",
    "    )\n",
    "    data[\"Malformed answers\"] = len(malformed_answers)\n",
    "\n",
    "    # Count the number of answers with missing nodes\n",
    "    missing_nodes = list(\n",
    "        filter(lambda x: x[\"new_crossings\"] == MISSING_NODES, results)\n",
    "    )\n",
    "    data[\"Missing nodes\"] = len(missing_nodes)\n",
    "\n",
    "    # Count the number of answers with extra nodes\n",
    "    extra_nodes = list(filter(lambda x: x[\"new_crossings\"] == EXTRA_NODES, results))\n",
    "    data[\"Extra nodes\"] = len(extra_nodes)\n",
    "\n",
    "    df = pd.DataFrame.from_dict(data, orient=\"index\", columns=[\"Value\"])\n",
    "    sns.set(rc={\"figure.figsize\": (15, 3)})\n",
    "    sns.barplot(x=df.index, y=\"Value\", data=df, color=color)\n",
    "    plt.ylabel(\"Count\")\n",
    "    plt.show()\n",
    "\n",
    "    return data, df, improved_answers, worsened_answers, equivalent_answers\n"
   ]
  },
  {
   "attachments": {},
   "cell_type": "markdown",
   "metadata": {},
   "source": [
    "## Read all queries"
   ]
  },
  {
   "cell_type": "code",
   "execution_count": 6,
   "metadata": {},
   "outputs": [],
   "source": [
    "def read_transpose_median_query(query:str) -> Tuple[list, dict]:\n",
    "    query_edges = ast.literal_eval(query.split(\"\\n\")[1].strip())\n",
    "\n",
    "    query_ranks_str = query.split(\"This is the description of what nodes are contained in what layer:\")[1]\n",
    "    query_ranks_str = query_ranks_str.split(\"Write no code and no explanations.\")[0].strip()\n",
    "    query_ranks_str = query_ranks_str.split(\"\\n\") \n",
    "    query_ranks = {}\n",
    "    for line in query_ranks_str:\n",
    "        rank = int(line.split(\"Layer \")[1].split(\":\")[0].strip())\n",
    "        nodes = ast.literal_eval(line.split(\":\")[1].strip())\n",
    "        query_ranks[rank] = nodes\n",
    "    \n",
    "    return query_edges, query_ranks"
   ]
  },
  {
   "cell_type": "code",
   "execution_count": 7,
   "metadata": {},
   "outputs": [
    {
     "name": "stdout",
     "output_type": "stream",
     "text": [
      "Standard queries: 50\n",
      "Step queries: 50\n",
      "ICL queries: 50\n"
     ]
    }
   ],
   "source": [
    "std_query_dir = \"queries/transpose_prompts_no_steps_median\"\n",
    "step_query_dir = \"queries/transpose_prompts_steps_median\"\n",
    "icl_query_dir = \"queries/transpose_prompts_icl_median\"\n",
    "\n",
    "std_query_files = sorted(os.listdir(std_query_dir))\n",
    "step_query_files = sorted(os.listdir(step_query_dir))\n",
    "icl_query_files = sorted(os.listdir(icl_query_dir))\n",
    "\n",
    "print(\"Standard queries:\", len(std_query_files))\n",
    "print(\"Step queries:\", len(step_query_files))\n",
    "print(\"ICL queries:\", len(icl_query_files))\n",
    "\n",
    "# Check that all the query files are the same\n",
    "assert set(std_query_files) == set(step_query_files) == set(icl_query_files)"
   ]
  },
  {
   "cell_type": "code",
   "execution_count": 8,
   "metadata": {},
   "outputs": [
    {
     "name": "stdout",
     "output_type": "stream",
     "text": [
      "Number of queries read:  50\n"
     ]
    }
   ],
   "source": [
    "queries = {}\n",
    "\n",
    "for query_file in std_query_files:\n",
    "    query = open(os.path.join(std_query_dir, query_file)).read().strip()\n",
    "\n",
    "    query_edges, query_ranks = read_transpose_median_query(query)\n",
    "    \n",
    "    queries[query_file] = {\"edges\": query_edges, \"ranks\": query_ranks}\n",
    "\n",
    "print(\"Number of queries read: \", len(queries))"
   ]
  },
  {
   "attachments": {},
   "cell_type": "markdown",
   "metadata": {},
   "source": [
    "## Results for Standard queries"
   ]
  },
  {
   "cell_type": "code",
   "execution_count": 9,
   "metadata": {},
   "outputs": [
    {
     "name": "stdout",
     "output_type": "stream",
     "text": [
      "Standard answers: 50\n"
     ]
    }
   ],
   "source": [
    "std_answer_dir = \"answers/transpose_prompts_no_steps_median\"\n",
    "std_answer_files = sorted(os.listdir(std_answer_dir))\n",
    "print(\"Standard answers:\", len(std_answer_files))"
   ]
  },
  {
   "cell_type": "code",
   "execution_count": 10,
   "metadata": {},
   "outputs": [
    {
     "name": "stdout",
     "output_type": "stream",
     "text": [
      "Standard answers: 47\n",
      "Standard malformed answers: 3\n",
      "dict_keys(['grafo1137.10.txt', 'grafo462.10.txt', 'grafo898.10.txt'])\n"
     ]
    }
   ],
   "source": [
    "std_answers = {}\n",
    "std_answers_malformed = {}\n",
    "\n",
    "for std_answer_file in std_answer_files:\n",
    "    with open(os.path.join(std_answer_dir, std_answer_file)) as f:\n",
    "        answer = f.read()\n",
    "    \n",
    "    try:\n",
    "        answer_ranks = read_rank_response(answer)\n",
    "        std_answers[std_answer_file] = answer_ranks\n",
    "    except Exception as e:\n",
    "        std_answers_malformed[std_answer_file] = answer\n",
    "\n",
    "\n",
    "print(\"Standard answers:\", len(std_answers))\n",
    "print(\"Standard malformed answers:\", len(std_answers_malformed))\n",
    "print(std_answers_malformed.keys())"
   ]
  },
  {
   "cell_type": "code",
   "execution_count": 11,
   "metadata": {},
   "outputs": [
    {
     "name": "stdout",
     "output_type": "stream",
     "text": [
      "Standard answers: 50\n",
      "Standard malformed answers: 0\n"
     ]
    }
   ],
   "source": [
    "# We manually analyze the malformed answers\n",
    "std_additional = {}\n",
    "std_additional[\"grafo1137.10.txt\"] = read_rank_response(\"\"\"Layer 0: [0]\n",
    "Layer 1: [5, 3]\n",
    "Layer 2: [9, 7, 8]\n",
    "Layer 3: [6, 1, 2, 4]\"\"\")\n",
    "std_additional[\"grafo462.10.txt\"] = read_rank_response(\"\"\"Layer 0: [0]\n",
    "Layer 1: [6, 7, 8]\n",
    "Layer 2: [2, 1, 5, 3]\n",
    "Layer 3: [9]\n",
    "Layer 4: [4]\"\"\")\n",
    "std_additional[\"grafo898.10.txt\"] = read_rank_response(\"\"\"Layer 0: [0]\n",
    "Layer 1: [6]\n",
    "Layer 2: [1]\n",
    "Layer 3: [7]\n",
    "Layer 4: [2, 3]\n",
    "Layer 5: [8, 9]\n",
    "Layer 6: [5, 4]\"\"\")\n",
    "\n",
    "for k in std_additional.keys():\n",
    "    std_answers[k] = std_additional[k]\n",
    "    _ = std_answers_malformed.pop(k)\n",
    "\n",
    "print(\"Standard answers:\", len(std_answers))\n",
    "print(\"Standard malformed answers:\", len(std_answers_malformed))"
   ]
  },
  {
   "cell_type": "code",
   "execution_count": 12,
   "metadata": {},
   "outputs": [
    {
     "name": "stdout",
     "output_type": "stream",
     "text": [
      "\n",
      "Unique number of nodes in the graphs of each query:\n",
      "(array([10, 11]), array([16, 34]))\n",
      "\n",
      "Unique number of nodes in the graphs of each answer:\n",
      "(array([10, 11]), array([16, 34]))\n",
      "\n",
      "Correct nodes answers:  50\n",
      "Incorrect nodes answers:  0\n",
      "\n",
      "Increased nodes answers:  0\n",
      "Decreased nodes answers:  0\n",
      "Number of correct rank answers: 45\n",
      "Number of incorrect rank answers: 5\n"
     ]
    }
   ],
   "source": [
    "(\n",
    "    correct_nodes_answers_std,\n",
    "    incorrect_nodes_answers_std,\n",
    "    increased_nodes_answers_std,\n",
    "    decreased_nodes_answers_std,\n",
    ") = check_nodes(std_answers, queries)\n",
    "\n",
    "correct_rank_answers_std, incorrect_rank_answers_std = check_ranks(correct_nodes_answers_std, queries)\n",
    "\n",
    "results_std = []\n",
    "for i, query in enumerate(queries):\n",
    "\n",
    "    c = count_edge_crossings(queries[query][\"edges\"], queries[query][\"ranks\"])\n",
    "    if query in correct_rank_answers_std:\n",
    "        c2 = count_edge_crossings(queries[query][\"edges\"], std_answers[query])\n",
    "    elif query in incorrect_rank_answers_std:\n",
    "        c2 = WRONG_RANKS\n",
    "    elif query in increased_nodes_answers_std:\n",
    "        c2 = EXTRA_NODES\n",
    "    elif query in decreased_nodes_answers_std:\n",
    "        c2 = MISSING_NODES\n",
    "    else:\n",
    "        c2 = WRONG_FORMAT\n",
    "    # print(\"original crossings: \", c, \"new crossings: \", c2)\n",
    "    results_std.append({\n",
    "        \"query\": query,\n",
    "        \"original_crossings\": c,\n",
    "        \"new_crossings\": c2,\n",
    "    })\n"
   ]
  },
  {
   "cell_type": "code",
   "execution_count": 13,
   "metadata": {},
   "outputs": [
    {
     "data": {
      "image/png": "[encoded data removed]",
      "text/plain": [
       "<Figure size 1500x300 with 1 Axes>"
      ]
     },
     "metadata": {},
     "output_type": "display_data"
    }
   ],
   "source": [
    "data_std, df_std, improved_answers_std, worsened_answers_std, equivalent_answers_std = visualize_results(results_std)"
   ]
  },
  {
   "attachments": {},
   "cell_type": "markdown",
   "metadata": {},
   "source": [
    "## Results for Step queries"
   ]
  },
  {
   "cell_type": "code",
   "execution_count": 21,
   "metadata": {},
   "outputs": [
    {
     "name": "stdout",
     "output_type": "stream",
     "text": [
      "step answers: 50\n"
     ]
    }
   ],
   "source": [
    "step_answer_dir = \"answers/transpose_prompts_steps_median\"\n",
    "step_answer_files = sorted(os.listdir(step_answer_dir))\n",
    "print(\"step answers:\", len(step_answer_files))"
   ]
  },
  {
   "cell_type": "code",
   "execution_count": 23,
   "metadata": {},
   "outputs": [
    {
     "name": "stdout",
     "output_type": "stream",
     "text": [
      "step answers: 47\n",
      "step malformed answers: 3\n",
      "dict_keys(['grafo2931.11.txt', 'grafo532.11.txt', 'grafo938.10.txt'])\n"
     ]
    }
   ],
   "source": [
    "# These answers are formatted in generally different ways, so we \n",
    "# will approach them differently\n",
    "step_answers = {}\n",
    "step_answers_malformed = {}\n",
    "\n",
    "for step_answer_file in step_answer_files:\n",
    "    with open(os.path.join(step_answer_dir, step_answer_file)) as f:\n",
    "        answer = f.read()\n",
    "    \n",
    "    if \"Layer 0:\" not in answer:\n",
    "        step_answers_malformed[step_answer_file] = answer\n",
    "        continue\n",
    "\n",
    "    answer = answer.split(\"Layer 0:\")[-1].strip() # Take only the last answer\n",
    "    answer = \"Layer 0:\" + answer\n",
    "\n",
    "    try:\n",
    "        answer_ranks = read_rank_response(answer)\n",
    "        step_answers[step_answer_file] = answer_ranks\n",
    "    except Exception as e:\n",
    "        step_answers_malformed[step_answer_file] = answer\n",
    "\n",
    "print(\"step answers:\", len(step_answers))\n",
    "print(\"step malformed answers:\", len(step_answers_malformed))\n",
    "print(step_answers_malformed.keys())"
   ]
  },
  {
   "cell_type": "code",
   "execution_count": 24,
   "metadata": {},
   "outputs": [
    {
     "name": "stdout",
     "output_type": "stream",
     "text": [
      "step answers: 50\n",
      "step malformed answers: 0\n"
     ]
    }
   ],
   "source": [
    "step_additional = {}\n",
    "step_additional[\"grafo2931.11.txt\"] = read_rank_response(\"\"\"Layer 0: [0]\n",
    "Layer 1: [6]\n",
    "Layer 2: [1, 10]\n",
    "Layer 3: [7, 2, 5, 4, 3]\n",
    "Layer 4: [9, 8]\"\"\")\n",
    "step_additional[\"grafo532.11.txt\"] = read_rank_response(\"\"\"Layer 0: [0]\n",
    "Layer 1: [7, 10, 6]\n",
    "Layer 2: [1, 2, 9, 4]\n",
    "Layer 3: [5, 8]\n",
    "Layer 4: [3]\"\"\")\n",
    "step_additional[\"grafo938.10.txt\"] = read_rank_response(\"\"\"Layer 0: [0]\n",
    "Layer 1: [9]\n",
    "Layer 2: [2, 3, 6, 7, 8]\n",
    "Layer 3: [1, 5]\n",
    "Layer 4: [4]\"\"\")\n",
    "\n",
    "for k in step_additional.keys():\n",
    "    step_answers[k] = step_additional[k]\n",
    "    _ = step_answers_malformed.pop(k)\n",
    "\n",
    "print(\"step answers:\", len(step_answers))\n",
    "print(\"step malformed answers:\", len(step_answers_malformed))"
   ]
  },
  {
   "cell_type": "code",
   "execution_count": 25,
   "metadata": {},
   "outputs": [
    {
     "name": "stdout",
     "output_type": "stream",
     "text": [
      "\n",
      "Unique number of nodes in the graphs of each query:\n",
      "(array([10, 11]), array([16, 34]))\n",
      "\n",
      "Unique number of nodes in the graphs of each answer:\n",
      "(array([ 6, 10, 11]), array([ 1, 15, 34]))\n",
      "\n",
      "Correct nodes answers:  49\n",
      "Incorrect nodes answers:  1\n",
      "\n",
      "Increased nodes answers:  0\n",
      "Decreased nodes answers:  1\n",
      "Number of correct rank answers: 46\n",
      "Number of incorrect rank answers: 3\n"
     ]
    }
   ],
   "source": [
    "(\n",
    "    correct_nodes_answers_step,\n",
    "    incorrect_nodes_answers_step,\n",
    "    increased_nodes_answers_step,\n",
    "    decreased_nodes_answers_step,\n",
    ") = check_nodes(step_answers, queries)\n",
    "\n",
    "correct_rank_answers_step, incorrect_rank_answers_step = check_ranks(correct_nodes_answers_step, queries)\n",
    "\n",
    "results_step = []\n",
    "for i, query in enumerate(queries):\n",
    "\n",
    "    c = count_edge_crossings(queries[query][\"edges\"], queries[query][\"ranks\"])\n",
    "    if query in correct_rank_answers_step:\n",
    "        c2 = count_edge_crossings(queries[query][\"edges\"], step_answers[query])\n",
    "    elif query in incorrect_rank_answers_step:\n",
    "        c2 = WRONG_RANKS\n",
    "    elif query in increased_nodes_answers_step:\n",
    "        c2 = EXTRA_NODES\n",
    "    elif query in decreased_nodes_answers_step:\n",
    "        c2 = MISSING_NODES\n",
    "    else:\n",
    "        c2 = WRONG_FORMAT\n",
    "    # print(\"original crossings: \", c, \"new crossings: \", c2)\n",
    "    results_step.append({\n",
    "        \"query\": query,\n",
    "        \"original_crossings\": c,\n",
    "        \"new_crossings\": c2,\n",
    "    })\n"
   ]
  },
  {
   "cell_type": "code",
   "execution_count": 28,
   "metadata": {},
   "outputs": [
    {
     "data": {
      "image/png": "[encoded data removed]",
      "text/plain": [
       "<Figure size 1500x300 with 1 Axes>"
      ]
     },
     "metadata": {},
     "output_type": "display_data"
    }
   ],
   "source": [
    "data_step, df_step, improved_answers_step, worsened_answers_step, equivalent_answers_step = visualize_results(results_step, color=\"orange\")"
   ]
  },
  {
   "cell_type": "code",
   "execution_count": null,
   "metadata": {},
   "outputs": [],
   "source": []
  },
  {
   "attachments": {},
   "cell_type": "markdown",
   "metadata": {},
   "source": [
    "## Results for ICL queries"
   ]
  },
  {
   "cell_type": "code",
   "execution_count": 14,
   "metadata": {},
   "outputs": [
    {
     "name": "stdout",
     "output_type": "stream",
     "text": [
      "ICL answers: 50\n"
     ]
    }
   ],
   "source": [
    "icl_answer_dir = \"answers/transpose_prompts_icl_median\"\n",
    "icl_answer_files = sorted(os.listdir(icl_answer_dir))\n",
    "print(\"ICL answers:\", len(icl_answer_files))"
   ]
  },
  {
   "cell_type": "code",
   "execution_count": 15,
   "metadata": {},
   "outputs": [
    {
     "name": "stdout",
     "output_type": "stream",
     "text": [
      "ICL answers: 50\n",
      "ICL malformed answers: 0\n"
     ]
    }
   ],
   "source": [
    "icl_answers = {}\n",
    "icl_answers_malformed = {}\n",
    "\n",
    "for icl_answer_file in icl_answer_files:\n",
    "    with open(os.path.join(icl_answer_dir, icl_answer_file)) as f:\n",
    "        answer = f.read()\n",
    "\n",
    "    try:\n",
    "        answer_ranks = read_rank_response(answer)\n",
    "        icl_answers[icl_answer_file] = answer_ranks\n",
    "    except Exception as e:\n",
    "        icl_answers_malformed[icl_answer_file] = answer\n",
    "\n",
    "print(\"ICL answers:\", len(icl_answers))\n",
    "print(\"ICL malformed answers:\", len(icl_answers_malformed))\n"
   ]
  },
  {
   "cell_type": "code",
   "execution_count": 16,
   "metadata": {},
   "outputs": [
    {
     "name": "stdout",
     "output_type": "stream",
     "text": [
      "\n",
      "Unique number of nodes in the graphs of each query:\n",
      "(array([10, 11]), array([16, 34]))\n",
      "\n",
      "Unique number of nodes in the graphs of each answer:\n",
      "(array([10, 11]), array([16, 34]))\n",
      "\n",
      "Correct nodes answers:  50\n",
      "Incorrect nodes answers:  0\n",
      "\n",
      "Increased nodes answers:  0\n",
      "Decreased nodes answers:  0\n",
      "Number of correct rank answers: 49\n",
      "Number of incorrect rank answers: 1\n"
     ]
    }
   ],
   "source": [
    "(\n",
    "    correct_nodes_answers_icl,\n",
    "    incorrect_nodes_answers_icl,\n",
    "    increased_nodes_answers_icl,\n",
    "    decreased_nodes_answers_icl,\n",
    ") = check_nodes(icl_answers, queries)\n",
    "\n",
    "correct_rank_answers_icl, incorrect_rank_answers_icl = check_ranks(correct_nodes_answers_icl, queries)\n",
    "\n",
    "results_icl = []\n",
    "for i, query in enumerate(queries):\n",
    "\n",
    "    c = count_edge_crossings(queries[query][\"edges\"], queries[query][\"ranks\"])\n",
    "    if query in correct_rank_answers_icl:\n",
    "        c2 = count_edge_crossings(queries[query][\"edges\"], icl_answers[query])\n",
    "    elif query in incorrect_rank_answers_icl:\n",
    "        c2 = WRONG_RANKS\n",
    "    elif query in increased_nodes_answers_icl:\n",
    "        c2 = EXTRA_NODES\n",
    "    elif query in decreased_nodes_answers_icl:\n",
    "        c2 = MISSING_NODES\n",
    "    else:\n",
    "        c2 = WRONG_FORMAT\n",
    "    # print(\"original crossings: \", c, \"new crossings: \", c2)\n",
    "    results_icl.append({\n",
    "        \"query\": query,\n",
    "        \"original_crossings\": c,\n",
    "        \"new_crossings\": c2,\n",
    "    })\n"
   ]
  },
  {
   "cell_type": "code",
   "execution_count": 17,
   "metadata": {},
   "outputs": [
    {
     "data": {
      "image/png": "[encoded data removed]",
      "text/plain": [
       "<Figure size 1500x300 with 1 Axes>"
      ]
     },
     "metadata": {},
     "output_type": "display_data"
    }
   ],
   "source": [
    "data_icl, df_icl, improved_answers_icl, worsened_answers_icl, equivalent_answers_icl = visualize_results(results_icl, color=\"green\")"
   ]
  },
  {
   "cell_type": "code",
   "execution_count": 19,
   "metadata": {},
   "outputs": [],
   "source": [
    "# print(\"Number of improved answers: \", len(improved_answers_icl))\n",
    "# for k in improved_answers_icl:\n",
    "#     q_edges = queries[k[\"query\"]][\"edges\"]\n",
    "#     q_ranks = queries[k[\"query\"]][\"ranks\"]\n",
    "#     r = correct_rank_answers_icl[k[\"query\"]]\n",
    "#     print(\"Original graph: {}\".format(k[\"query\"]))\n",
    "#     print(q_ranks, q_edges)\n",
    "#     visualize_graph(q_ranks, q_edges, filter_same_rank=True)\n",
    "#     print(\"Answer graph:\")\n",
    "#     print(r)\n",
    "#     visualize_graph(r, q_edges, filter_same_rank=True)\n",
    "#     print(\"\\n\\n\")"
   ]
  },
  {
   "attachments": {},
   "cell_type": "markdown",
   "metadata": {},
   "source": [
    "## Side by side comparison"
   ]
  },
  {
   "cell_type": "code",
   "execution_count": 34,
   "metadata": {},
   "outputs": [
    {
     "data": {
      "image/png": "[encoded data removed]",
      "text/plain": [
       "<Figure size 1500x300 with 1 Axes>"
      ]
     },
     "metadata": {},
     "output_type": "display_data"
    }
   ],
   "source": [
    "df_std_pt = df_std / len(queries) * 100\n",
    "df_icl_pt = df_icl / len(queries) * 100\n",
    "df_step_pt = df_step / len(queries) * 100\n",
    "\n",
    "df_std_pt[\"Type\"] = \"Standard\"\n",
    "df_icl_pt[\"Type\"] = \"ICL\"\n",
    "df_step_pt[\"Type\"] = \"Step\"\n",
    "\n",
    "df_pt = pd.concat([df_std_pt, df_step_pt, df_icl_pt]).reset_index()\n",
    "\n",
    "sns.set(rc={'figure.figsize':(15,3)})\n",
    "sns.barplot(x=\"index\", y='Value', data=df_pt, hue='Type', palette=\"pastel\")\n",
    "plt.ylabel('Percentage')\n",
    "plt.show()"
   ]
  },
  {
   "cell_type": "code",
   "execution_count": null,
   "metadata": {},
   "outputs": [],
   "source": []
  }
 ],
 "metadata": {
  "kernelspec": {
   "display_name": "gpt_graphs",
   "language": "python",
   "name": "python3"
  },
  "language_info": {
   "codemirror_mode": {
    "name": "ipython",
    "version": 3
   },
   "file_extension": ".py",
   "mimetype": "text/x-python",
   "name": "python",
   "nbconvert_exporter": "python",
   "pygments_lexer": "ipython3",
   "version": "3.9.16"
  },
  "orig_nbformat": 4,
  "vscode": {
   "interpreter": {
    "hash": "dafb023fb61a9cb21231b21edf636d8c395a3f8533b033bfdca443941bcc4563"
   }
  }
 },
 "nbformat": 4,
 "nbformat_minor": 2
}
