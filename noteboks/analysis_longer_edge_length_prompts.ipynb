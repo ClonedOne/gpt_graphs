{
 "cells": [
  {
   "cell_type": "code",
   "execution_count": 1,
   "metadata": {},
   "outputs": [],
   "source": [
    "%load_ext autoreload\n",
    "%autoreload 2"
   ]
  },
  {
   "cell_type": "code",
   "execution_count": 2,
   "metadata": {},
   "outputs": [],
   "source": [
    "import os\n",
    "os.chdir(\"../\")"
   ]
  },
  {
   "cell_type": "code",
   "execution_count": 3,
   "metadata": {},
   "outputs": [],
   "source": [
    "import re\n",
    "import numpy as np\n",
    "import pandas as pd\n",
    "import seaborn as sns\n",
    "import matplotlib.pyplot as plt\n",
    "import util"
   ]
  },
  {
   "attachments": {},
   "cell_type": "markdown",
   "metadata": {},
   "source": [
    "# Analysis of answers for `longer_edge_length_prompts`\n"
   ]
  },
  {
   "attachments": {},
   "cell_type": "markdown",
   "metadata": {},
   "source": [
    "## Load and clean the answers -- no reasoning steps"
   ]
  },
  {
   "cell_type": "code",
   "execution_count": 4,
   "metadata": {},
   "outputs": [
    {
     "name": "stdout",
     "output_type": "stream",
     "text": [
      "Found 50 answers\n"
     ]
    }
   ],
   "source": [
    "answer_dir = os.path.join(\"answers\", \"longer_edge_length_prompts_no_steps\")\n",
    "all_answers = sorted(os.listdir(answer_dir))\n",
    "print(f\"Found {len(all_answers)} answers\")"
   ]
  },
  {
   "cell_type": "code",
   "execution_count": 5,
   "metadata": {},
   "outputs": [
    {
     "name": "stdout",
     "output_type": "stream",
     "text": [
      "Answer is a number: 47\n",
      "Answer is not a number: 4\n",
      "dict_keys(['grafo1629.11.txt', 'grafo2105.10.txt', 'grafo238.10.txt', 'grafo2953.11.txt'])\n"
     ]
    }
   ],
   "source": [
    "answer_is_number = {}\n",
    "answer_not_number = {}\n",
    "number_r = re.compile(r\"^\\d*[.,]?\\d*$\")\n",
    "\n",
    "for answer_file in sorted(os.listdir(answer_dir)):\n",
    "    answer_file_path = os.path.join(answer_dir, answer_file)\n",
    "\n",
    "    answer_str = open(answer_file_path, \"r\").read().strip().split(\"\\n\")[-1]\n",
    "    answer_str = answer_str.split()\n",
    "\n",
    "    found_digit = False\n",
    "    for sub_str in answer_str:\n",
    "        if number_r.match(sub_str):\n",
    "            try:\n",
    "                answer_is_number[answer_file] = float(sub_str)\n",
    "                found_digit = True\n",
    "            except: \n",
    "                found_digit = False\n",
    "                break\n",
    "\n",
    "    if not found_digit:\n",
    "        answer_not_number[answer_file] = answer_str\n",
    "\n",
    "print(\"Answer is a number:\", len(answer_is_number))\n",
    "print(\"Answer is not a number:\", len(answer_not_number))\n",
    "\n",
    "print(answer_not_number.keys())\n"
   ]
  },
  {
   "cell_type": "code",
   "execution_count": 6,
   "metadata": {},
   "outputs": [],
   "source": [
    "# we manually analyzed the answers that were harder to parse\n",
    "answer_is_number[\"grafo1629.11.txt\"] = 10.0\n",
    "answer_is_number[\"grafo2105.10.txt\"] = 9.0\n",
    "\n",
    "_ = answer_not_number.pop(\"grafo1629.11.txt\")\n",
    "_ = answer_not_number.pop(\"grafo2105.10.txt\")\n"
   ]
  },
  {
   "attachments": {},
   "cell_type": "markdown",
   "metadata": {},
   "source": [
    "Up to now we only checked if the returned string contained a number. We can now look for the presence of integers (expected) or floats."
   ]
  },
  {
   "cell_type": "code",
   "execution_count": 7,
   "metadata": {},
   "outputs": [
    {
     "name": "stdout",
     "output_type": "stream",
     "text": [
      "Answer is an Integer: 48\n",
      "Answer is a Float: 0\n"
     ]
    }
   ],
   "source": [
    "answer_integer = {}\n",
    "answer_float = {}\n",
    "for answer_file, answer in answer_is_number.items():\n",
    "    if answer.is_integer():\n",
    "        answer_integer[answer_file] = int(answer)\n",
    "    else:\n",
    "        answer_float[answer_file] = answer\n",
    "\n",
    "print(\"Answer is an Integer:\", len(answer_integer))\n",
    "print(\"Answer is a Float:\", len(answer_float))"
   ]
  },
  {
   "cell_type": "markdown",
   "metadata": {},
   "source": [
    "## Load and clean the answers -- with reasoning steps"
   ]
  },
  {
   "cell_type": "code",
   "execution_count": 8,
   "metadata": {},
   "outputs": [
    {
     "name": "stdout",
     "output_type": "stream",
     "text": [
      "Found 50 answers\n",
      "Answer is a number: 45\n",
      "Answer is not a number: 5\n",
      "dict_keys(['grafo1683.11.txt', 'grafo1822.11.txt', 'grafo1912.11.txt', 'grafo1917.11.txt', 'grafo1920.11.txt'])\n",
      "Answer is an Integer: 46\n",
      "Answer is a Float: 0\n"
     ]
    }
   ],
   "source": [
    "answer_ws_dir = os.path.join(\"answers\", \"longer_edge_length_prompts_steps\")\n",
    "all_answers_ws = sorted(os.listdir(answer_ws_dir))\n",
    "print(f\"Found {len(all_answers_ws)} answers\")\n",
    "\n",
    "answer_ws_is_number = {}\n",
    "answer_ws_not_number = {}\n",
    "\n",
    "for answer_ws_file in sorted(os.listdir(answer_ws_dir)):\n",
    "    answer_ws_file_path = os.path.join(answer_ws_dir, answer_ws_file)\n",
    "\n",
    "    answer_ws_str = open(answer_ws_file_path, \"r\").read().strip().split(\"\\n\")[-1]\n",
    "    answer_ws_str = answer_ws_str.split()\n",
    "\n",
    "    found_digit = False\n",
    "    for sub_str in answer_ws_str:\n",
    "        if number_r.match(sub_str):\n",
    "            try:\n",
    "                answer_ws_is_number[answer_ws_file] = float(sub_str)\n",
    "                found_digit = True\n",
    "            except: \n",
    "                found_digit = False\n",
    "                break\n",
    "\n",
    "    if not found_digit:\n",
    "        answer_ws_not_number[answer_ws_file] = answer_ws_str\n",
    "\n",
    "print(\"Answer is a number:\", len(answer_ws_is_number))\n",
    "print(\"Answer is not a number:\", len(answer_ws_not_number))\n",
    "\n",
    "print(answer_ws_not_number.keys())\n",
    "\n",
    "# we manually analyzed the answers that were harder to parse\n",
    "answer_ws_is_number[\"grafo1920.11.txt\"] = 37.0\n",
    "_ = answer_ws_not_number.pop(\"grafo1920.11.txt\")\n",
    "\n",
    "answer_ws_integer = {}\n",
    "answer_ws_float = {}\n",
    "for answer_ws_file, answer in answer_ws_is_number.items():\n",
    "    if answer.is_integer():\n",
    "        answer_ws_integer[answer_ws_file] = int(answer)\n",
    "    else:\n",
    "        answer_ws_float[answer_ws_file] = answer\n",
    "\n",
    "print(\"Answer is an Integer:\", len(answer_ws_integer))\n",
    "print(\"Answer is a Float:\", len(answer_ws_float))"
   ]
  },
  {
   "attachments": {},
   "cell_type": "markdown",
   "metadata": {},
   "source": [
    "## Results for no reasoning steps"
   ]
  },
  {
   "cell_type": "code",
   "execution_count": 9,
   "metadata": {},
   "outputs": [
    {
     "name": "stdout",
     "output_type": "stream",
     "text": [
      "Ground truth: 18 -- Answer: 15\n",
      "Ground truth: 16 -- Answer: 24\n",
      "Ground truth: 17 -- Answer: 13\n",
      "Ground truth: 17 -- Answer: 17\n",
      "Ground truth: 14 -- Answer: 28\n",
      "Ground truth: 33 -- Answer: 18\n",
      "Ground truth: 26 -- Answer: 24\n",
      "Ground truth: 19 -- Answer: 15\n",
      "Ground truth: 12 -- Answer: 10\n",
      "Ground truth: 24 -- Answer: 21\n",
      "Ground truth: 20 -- Answer: 16\n",
      "Ground truth: 12 -- Answer: 17\n",
      "Ground truth: 31 -- Answer: 13\n",
      "Ground truth: 17 -- Answer: 17\n",
      "Ground truth: 18 -- Answer: 20\n",
      "Ground truth: 34 -- Answer: 14\n",
      "Ground truth: 35 -- Answer: 17\n",
      "Ground truth: 25 -- Answer: 14\n",
      "Ground truth: 20 -- Answer: 12\n",
      "Ground truth: 16 -- Answer: 17\n",
      "Ground truth: 11 -- Answer: 11\n",
      "Ground truth: 20 -- Answer: 11\n",
      "Ground truth: 18 -- Answer: 12\n",
      "Ground truth: 42 -- Answer: 24\n",
      "Ground truth: 33 -- Answer: 16\n",
      "Ground truth: 17 -- Answer: 16\n",
      "Ground truth: 21 -- Answer: 19\n",
      "Ground truth: 28 -- Answer: 17\n",
      "Ground truth: 23 -- Answer: 12\n",
      "Ground truth: 25 -- Answer: 10\n",
      "Ground truth: 13 -- Answer: 15\n",
      "Ground truth: 25 -- Answer: 12\n",
      "Ground truth: 21 -- Answer: 16\n",
      "Ground truth: 18 -- Answer: 9\n",
      "Ground truth: 22 -- Answer: 14\n",
      "Ground truth: 17 -- Answer: 16\n",
      "Ground truth: 15 -- Answer: 23\n",
      "Ground truth: 35 -- Answer: 28\n",
      "Ground truth: 18 -- Answer: 12\n",
      "Ground truth: 19 -- Answer: 14\n",
      "Ground truth: 20 -- Answer: 30\n",
      "Ground truth: 31 -- Answer: 22\n",
      "Ground truth: 20 -- Answer: 16\n",
      "Ground truth: 39 -- Answer: 20\n",
      "Ground truth: 25 -- Answer: 14\n",
      "Ground truth: 18 -- Answer: 11\n",
      "Ground truth: 17 -- Answer: 11\n",
      "Ground truth: 30 -- Answer: 21\n"
     ]
    },
    {
     "data": {
      "image/png": "[encoded data removed]",
      "text/plain": [
       "<Figure size 800x300 with 1 Axes>"
      ]
     },
     "metadata": {},
     "output_type": "display_data"
    }
   ],
   "source": [
    "import ast\n",
    "\n",
    "data = {}\n",
    "data[\"Correct\"] = 0\n",
    "data[\"Incorrect\"] = 0\n",
    "data[\"Malformed\"] = len(answer_not_number)\n",
    "\n",
    "for f in util.read_files(base_path = \"rome\"):\n",
    "    # print(f['filename'])\n",
    "    fname = f['filename'].split(\"/\")[1].replace(\".graphml\", \".txt\")\n",
    "    if fname not in answer_integer: continue\n",
    "\n",
    "    query_file = open(\"queries/longer_edge_length_prompts_no_steps/\" + f['filename'].split(\"/\")[1].replace(\".graphml\", \".txt\"), \"r\")\n",
    "    query_content = query_file.read().split(\"\\n\")\n",
    "\n",
    "    el = [(int(u), int(v)) for (u, v) in ast.literal_eval(query_content[4].split(\":\")[1].strip())]\n",
    "\n",
    "    try:\n",
    "        nr = {\n",
    "            0 : [int(x) for x in ast.literal_eval(query_content[8].split(\":\")[1].strip())],\n",
    "            1 : [int(x) for x in ast.literal_eval(query_content[9].split(\":\")[1].strip())],\n",
    "            2 : [int(x) for x in ast.literal_eval(query_content[10].split(\":\")[1].strip())],\n",
    "            3 : [int(x) for x in ast.literal_eval(query_content[11].split(\":\")[1].strip())],\n",
    "            4 : [int(x) for x in ast.literal_eval(query_content[12].split(\":\")[1].strip())],\n",
    "            5 : [int(x) for x in ast.literal_eval(query_content[13].split(\":\")[1].strip())],\n",
    "        }\n",
    "    except:\n",
    "        nr = {\n",
    "            0 : [int(x) for x in ast.literal_eval(query_content[8].split(\":\")[1].strip())],\n",
    "            1 : [int(x) for x in ast.literal_eval(query_content[9].split(\":\")[1].strip())],\n",
    "            2 : [int(x) for x in ast.literal_eval(query_content[10].split(\":\")[1].strip())],\n",
    "            3 : [int(x) for x in ast.literal_eval(query_content[11].split(\":\")[1].strip())],\n",
    "            4 : [int(x) for x in ast.literal_eval(query_content[12].split(\":\")[1].strip())],\n",
    "        }\n",
    "\n",
    "    if (util.count_edge_length(el, nr) == answer_integer[fname]):\n",
    "        data[\"Correct\"] += 1\n",
    "    else: data[\"Incorrect\"] += 1\n",
    "\n",
    "    print(\"Ground truth: {} -- Answer: {}\".format(util.count_edge_length(el, nr), answer_integer[fname]))\n",
    "\n",
    "import seaborn as sns\n",
    "import matplotlib.pyplot as plt\n",
    "import pandas as pd\n",
    "\n",
    "# Convert the dictionary to a Pandas DataFrame for plotting\n",
    "df = pd.DataFrame.from_dict(data, orient='index', columns=['Value'])\n",
    "\n",
    "sns.set(rc={'figure.figsize':(8,3)})\n",
    "\n",
    "# Use Seaborn to create a bar chart\n",
    "sns.barplot(x=df.index, y='Value', data=df, color='skyblue')\n",
    "\n",
    "# Set the labels for the x and y axes\n",
    "# plt.xSabel('Label')\n",
    "plt.ylabel('Count')\n",
    "\n",
    "# Show the plot\n",
    "plt.show()"
   ]
  },
  {
   "attachments": {},
   "cell_type": "markdown",
   "metadata": {},
   "source": [
    "## Results with reasoning steps"
   ]
  },
  {
   "cell_type": "code",
   "execution_count": 11,
   "metadata": {},
   "outputs": [
    {
     "name": "stdout",
     "output_type": "stream",
     "text": [
      "Ground truth: 18 -- Answer: 15\n",
      "Ground truth: 16 -- Answer: 16\n",
      "Ground truth: 17 -- Answer: 18\n",
      "Ground truth: 17 -- Answer: 18\n",
      "Ground truth: 17 -- Answer: 17\n",
      "Ground truth: 14 -- Answer: 17\n",
      "Ground truth: 33 -- Answer: 30\n",
      "Ground truth: 26 -- Answer: 24\n",
      "Ground truth: 19 -- Answer: 19\n",
      "Ground truth: 12 -- Answer: 16\n",
      "Ground truth: 24 -- Answer: 24\n",
      "Ground truth: 20 -- Answer: 18\n",
      "Ground truth: 12 -- Answer: 8\n",
      "Ground truth: 31 -- Answer: 24\n",
      "Ground truth: 17 -- Answer: 17\n",
      "Ground truth: 18 -- Answer: 21\n",
      "Ground truth: 34 -- Answer: 22\n",
      "Ground truth: 25 -- Answer: 23\n",
      "Ground truth: 20 -- Answer: 18\n",
      "Ground truth: 16 -- Answer: 16\n",
      "Ground truth: 11 -- Answer: 11\n",
      "Ground truth: 20 -- Answer: 18\n",
      "Ground truth: 18 -- Answer: 12\n",
      "Ground truth: 42 -- Answer: 37\n",
      "Ground truth: 17 -- Answer: 17\n",
      "Ground truth: 28 -- Answer: 29\n",
      "Ground truth: 23 -- Answer: 24\n",
      "Ground truth: 25 -- Answer: 24\n",
      "Ground truth: 13 -- Answer: 13\n",
      "Ground truth: 25 -- Answer: 23\n",
      "Ground truth: 21 -- Answer: 23\n",
      "Ground truth: 18 -- Answer: 18\n",
      "Ground truth: 22 -- Answer: 20\n",
      "Ground truth: 17 -- Answer: 18\n",
      "Ground truth: 15 -- Answer: 15\n",
      "Ground truth: 35 -- Answer: 35\n",
      "Ground truth: 18 -- Answer: 17\n",
      "Ground truth: 19 -- Answer: 19\n",
      "Ground truth: 20 -- Answer: 18\n",
      "Ground truth: 20 -- Answer: 15\n",
      "Ground truth: 39 -- Answer: 36\n",
      "Ground truth: 25 -- Answer: 20\n",
      "Ground truth: 18 -- Answer: 18\n",
      "Ground truth: 17 -- Answer: 17\n",
      "Ground truth: 22 -- Answer: 25\n",
      "Ground truth: 30 -- Answer: 20\n"
     ]
    },
    {
     "data": {
      "image/png": "[encoded data removed]",
      "text/plain": [
       "<Figure size 800x300 with 1 Axes>"
      ]
     },
     "metadata": {},
     "output_type": "display_data"
    }
   ],
   "source": [
    "import ast\n",
    "\n",
    "data_ws = {}\n",
    "data_ws[\"Correct\"] = 0\n",
    "data_ws[\"Incorrect\"] = 0\n",
    "data_ws[\"Malformed\"] = len(answer_not_number)\n",
    "\n",
    "for f in util.read_files(base_path = \"rome\"):\n",
    "    # print(f['filename'])\n",
    "    fname = f['filename'].split(\"/\")[1].replace(\".graphml\", \".txt\")\n",
    "    if fname not in answer_ws_integer: continue\n",
    "\n",
    "    query_file = open(\"queries/longer_edge_length_prompts_steps/\" + f['filename'].split(\"/\")[1].replace(\".graphml\", \".txt\"), \"r\")\n",
    "    query_content = query_file.read().split(\"\\n\")\n",
    "\n",
    "    el = [(int(u), int(v)) for (u, v) in ast.literal_eval(query_content[4].split(\":\")[1].strip())]\n",
    "\n",
    "    try:\n",
    "        nr = {\n",
    "            0 : [int(x) for x in ast.literal_eval(query_content[8].split(\":\")[1].strip())],\n",
    "            1 : [int(x) for x in ast.literal_eval(query_content[9].split(\":\")[1].strip())],\n",
    "            2 : [int(x) for x in ast.literal_eval(query_content[10].split(\":\")[1].strip())],\n",
    "            3 : [int(x) for x in ast.literal_eval(query_content[11].split(\":\")[1].strip())],\n",
    "            4 : [int(x) for x in ast.literal_eval(query_content[12].split(\":\")[1].strip())],\n",
    "            5 : [int(x) for x in ast.literal_eval(query_content[13].split(\":\")[1].strip())],\n",
    "        }\n",
    "    except:\n",
    "        nr = {\n",
    "            0 : [int(x) for x in ast.literal_eval(query_content[8].split(\":\")[1].strip())],\n",
    "            1 : [int(x) for x in ast.literal_eval(query_content[9].split(\":\")[1].strip())],\n",
    "            2 : [int(x) for x in ast.literal_eval(query_content[10].split(\":\")[1].strip())],\n",
    "            3 : [int(x) for x in ast.literal_eval(query_content[11].split(\":\")[1].strip())],\n",
    "            4 : [int(x) for x in ast.literal_eval(query_content[12].split(\":\")[1].strip())],\n",
    "        }\n",
    "\n",
    "    if (util.count_edge_length(el, nr) == answer_ws_integer[fname]):\n",
    "        data_ws[\"Correct\"] += 1\n",
    "    else: data_ws[\"Incorrect\"] += 1\n",
    "\n",
    "    print(\"Ground truth: {} -- Answer: {}\".format(util.count_edge_length(el, nr), answer_ws_integer[fname]))\n",
    "\n",
    "import seaborn as sns\n",
    "import matplotlib.pyplot as plt\n",
    "import pandas as pd\n",
    "\n",
    "# Convert the dictionary to a Pandas DataFrame for plotting\n",
    "df_ws = pd.DataFrame.from_dict(data_ws, orient='index', columns=['Value'])\n",
    "\n",
    "sns.set(rc={'figure.figsize':(8,3)})\n",
    "\n",
    "# Use Seaborn to create a bar chart\n",
    "sns.barplot(x=df_ws.index, y='Value', data=df_ws, color='orange')\n",
    "\n",
    "# Set the labels for the x and y axes\n",
    "# plt.xSabel('Label')\n",
    "plt.ylabel('Count')\n",
    "\n",
    "# Show the plot\n",
    "plt.show()"
   ]
  },
  {
   "attachments": {},
   "cell_type": "markdown",
   "metadata": {},
   "source": [
    "## Side by side comparison"
   ]
  },
  {
   "cell_type": "code",
   "execution_count": 15,
   "metadata": {},
   "outputs": [
    {
     "data": {
      "text/html": [
       "<div>\n",
       "<style scoped>\n",
       "    .dataframe tbody tr th:only-of-type {\n",
       "        vertical-align: middle;\n",
       "    }\n",
       "\n",
       "    .dataframe tbody tr th {\n",
       "        vertical-align: top;\n",
       "    }\n",
       "\n",
       "    .dataframe thead th {\n",
       "        text-align: right;\n",
       "    }\n",
       "</style>\n",
       "<table border=\"1\" class=\"dataframe\">\n",
       "  <thead>\n",
       "    <tr style=\"text-align: right;\">\n",
       "      <th></th>\n",
       "      <th>index</th>\n",
       "      <th>Value</th>\n",
       "      <th>Type</th>\n",
       "    </tr>\n",
       "  </thead>\n",
       "  <tbody>\n",
       "    <tr>\n",
       "      <th>0</th>\n",
       "      <td>Correct</td>\n",
       "      <td>6.0</td>\n",
       "      <td>Standard</td>\n",
       "    </tr>\n",
       "    <tr>\n",
       "      <th>1</th>\n",
       "      <td>Incorrect</td>\n",
       "      <td>90.0</td>\n",
       "      <td>Standard</td>\n",
       "    </tr>\n",
       "    <tr>\n",
       "      <th>2</th>\n",
       "      <td>Malformed</td>\n",
       "      <td>4.0</td>\n",
       "      <td>Standard</td>\n",
       "    </tr>\n",
       "    <tr>\n",
       "      <th>3</th>\n",
       "      <td>Correct</td>\n",
       "      <td>30.0</td>\n",
       "      <td>Reasoning steps</td>\n",
       "    </tr>\n",
       "    <tr>\n",
       "      <th>4</th>\n",
       "      <td>Incorrect</td>\n",
       "      <td>62.0</td>\n",
       "      <td>Reasoning steps</td>\n",
       "    </tr>\n",
       "    <tr>\n",
       "      <th>5</th>\n",
       "      <td>Malformed</td>\n",
       "      <td>4.0</td>\n",
       "      <td>Reasoning steps</td>\n",
       "    </tr>\n",
       "  </tbody>\n",
       "</table>\n",
       "</div>"
      ],
      "text/plain": [
       "       index  Value             Type\n",
       "0    Correct    6.0         Standard\n",
       "1  Incorrect   90.0         Standard\n",
       "2  Malformed    4.0         Standard\n",
       "3    Correct   30.0  Reasoning steps\n",
       "4  Incorrect   62.0  Reasoning steps\n",
       "5  Malformed    4.0  Reasoning steps"
      ]
     },
     "metadata": {},
     "output_type": "display_data"
    }
   ],
   "source": [
    "df_pt = df / len(all_answers) * 100\n",
    "df_ws_pt = df_ws / len(all_answers) * 100\n",
    "\n",
    "df_pt[\"Type\"] = \"Standard\"\n",
    "df_ws_pt[\"Type\"] = \"Reasoning steps\"\n",
    "to_plot = pd.concat([df_pt, df_ws_pt]).reset_index()\n",
    "display(to_plot)"
   ]
  },
  {
   "cell_type": "code",
   "execution_count": 16,
   "metadata": {},
   "outputs": [
    {
     "data": {
      "image/png": "[encoded data removed]",
      "text/plain": [
       "<Figure size 1000x300 with 1 Axes>"
      ]
     },
     "metadata": {},
     "output_type": "display_data"
    }
   ],
   "source": [
    "sns.set(rc={'figure.figsize':(10,3)})\n",
    "\n",
    "sns.barplot(x=\"index\", y='Value', data=to_plot, hue='Type', palette=\"pastel\")\n",
    "\n",
    "# Set the labels for the x and y axes\n",
    "plt.ylabel('Percentage')\n",
    "\n",
    "# Show the plot\n",
    "plt.show()"
   ]
  },
  {
   "cell_type": "code",
   "execution_count": null,
   "metadata": {},
   "outputs": [],
   "source": []
  }
 ],
 "metadata": {
  "kernelspec": {
   "display_name": "gpt_graphs",
   "language": "python",
   "name": "python3"
  },
  "language_info": {
   "codemirror_mode": {
    "name": "ipython",
    "version": 3
   },
   "file_extension": ".py",
   "mimetype": "text/x-python",
   "name": "python",
   "nbconvert_exporter": "python",
   "pygments_lexer": "ipython3",
   "version": "3.9.16"
  },
  "orig_nbformat": 4,
  "vscode": {
   "interpreter": {
    "hash": "dafb023fb61a9cb21231b21edf636d8c395a3f8533b033bfdca443941bcc4563"
   }
  }
 },
 "nbformat": 4,
 "nbformat_minor": 2
}
