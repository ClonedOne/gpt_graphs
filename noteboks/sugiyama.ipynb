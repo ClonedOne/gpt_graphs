{
 "cells": [
  {
   "cell_type": "code",
   "execution_count": 1,
   "metadata": {},
   "outputs": [],
   "source": [
    "%load_ext autoreload\n",
    "%autoreload 2"
   ]
  },
  {
   "cell_type": "code",
   "execution_count": 2,
   "metadata": {},
   "outputs": [],
   "source": [
    "import os\n",
    "import copy\n",
    "import tqdm\n",
    "import numpy as np\n",
    "import pandas as pd\n",
    "import matplotlib.pyplot as plt\n",
    "\n",
    "from typing import List\n",
    "from pprint import pprint\n",
    "from collections import defaultdict"
   ]
  },
  {
   "attachments": {},
   "cell_type": "markdown",
   "metadata": {},
   "source": [
    "# Sugiyama implementation"
   ]
  },
  {
   "attachments": {},
   "cell_type": "markdown",
   "metadata": {},
   "source": [
    "## Data"
   ]
  },
  {
   "cell_type": "code",
   "execution_count": 3,
   "metadata": {},
   "outputs": [],
   "source": [
    "# node_link_list = [\n",
    "#     (0, 6),\n",
    "#     (6, 1),\n",
    "#     (1, 7),\n",
    "#     (7, 2),\n",
    "#     (7, 3),\n",
    "#     (3, 8),\n",
    "#     (8, 4),\n",
    "#     (3, 9),\n",
    "#     (9, 5),\n",
    "# ]\n",
    "# rank_node_dict = {0: [0], 1: [6], 2: [1], 3: [7], 4: [2, 3], 5: [8, 9], 6: [4, 5]}\n",
    "\n",
    "node_link_list = [\n",
    "    (0, 1),\n",
    "    (1, 2),\n",
    "    (3, 4),\n",
    "    (4, 5),\n",
    "    (6, 0),\n",
    "    (0, 5),\n",
    "    (3, 0),\n",
    "    (3, 2),\n",
    "    (0, 7),\n",
    "    (7, 8),\n",
    "    (8, 0),\n",
    "    (1, 8),\n",
    "    (5, 9),\n",
    "    (9, 6),\n",
    "    (10, 5),\n",
    "]\n",
    "rank_node_dict = {0: [0], 1: [1, 6, 5, 3, 7, 8], 2: [2, 9, 4, 10]}\n"
   ]
  },
  {
   "cell_type": "code",
   "execution_count": 4,
   "metadata": {},
   "outputs": [
    {
     "name": "stdout",
     "output_type": "stream",
     "text": [
      "Node connections dict: {0: array([1, 6, 5, 3, 7, 8]), 1: array([0, 2, 8]), 2: array([1, 3]), 3: array([4, 0, 2]), 4: array([3, 5]), 5: array([ 4,  0,  9, 10]), 6: array([0, 9]), 7: array([0, 8]), 8: array([7, 0, 1]), 9: array([5, 6]), 10: array([5])}\n",
      "Rank node dict: {0: array([0]), 1: array([1, 6, 5, 3, 7, 8]), 2: array([ 2,  9,  4, 10])}\n"
     ]
    }
   ],
   "source": [
    "node_connections_dict = defaultdict(list)\n",
    "for node, connection in node_link_list:\n",
    "    node_connections_dict[node].append(connection)\n",
    "    node_connections_dict[connection].append(node)\n",
    "\n",
    "# Transform lists to numpy arrays\n",
    "node_connections_dict = {\n",
    "    node: np.array(connections) for node, connections in node_connections_dict.items()\n",
    "}\n",
    "rank_node_dict = {rank: np.array(nodes) for rank, nodes in rank_node_dict.items()}\n",
    "\n",
    "print(\"Node connections dict:\", node_connections_dict)\n",
    "print(\"Rank node dict:\", rank_node_dict)\n"
   ]
  },
  {
   "cell_type": "code",
   "execution_count": 5,
   "metadata": {},
   "outputs": [],
   "source": [
    "max_iterations = 20"
   ]
  },
  {
   "cell_type": "code",
   "execution_count": 6,
   "metadata": {},
   "outputs": [],
   "source": [
    "def median_pos(rank_node_dict: dict, rank_neighbors:int, neighbors: np.ndarray):\n",
    "    nodes_at_rank: np.ndarray = rank_node_dict[rank_neighbors]\n",
    "    # print(nodes_at_rank)\n",
    "    # print(neighbors)\n",
    "\n",
    "    positions_of_neighbors = []\n",
    "    for n in neighbors:\n",
    "        pos_n = np.where(nodes_at_rank == n)[0]\n",
    "        if pos_n.size > 0:\n",
    "            positions_of_neighbors.append(pos_n[0])\n",
    "    positions_of_neighbors = np.array(positions_of_neighbors)\n",
    "    # print(positions_of_neighbors)\n",
    "\n",
    "    # If no neighbors are found, return -1\n",
    "    if positions_of_neighbors.size == 0:\n",
    "        return -1\n",
    "\n",
    "    median_position_neighbors = np.median(positions_of_neighbors).astype(int)\n",
    "    # print(median_position_neighbors)\n",
    "\n",
    "    return median_position_neighbors\n",
    "\n",
    "# med = median_pos(rank_node_dict, 2, node_connections_dict[3])\n",
    "# print(med)"
   ]
  },
  {
   "cell_type": "code",
   "execution_count": 7,
   "metadata": {},
   "outputs": [],
   "source": [
    "def get_new_positions(\n",
    "    nodes: np.ndarray,\n",
    "    rank_node_dict: dict,\n",
    "    node_connections_dict: dict,\n",
    "    rank: int,\n",
    "    forward: bool,\n",
    "):\n",
    "    new_positions = []\n",
    "\n",
    "    for cur_pos, node in enumerate(nodes):\n",
    "        neighbors = node_connections_dict[node]\n",
    "        if forward:\n",
    "            neighbor_rank = rank + 1\n",
    "        else:\n",
    "            neighbor_rank = rank - 1\n",
    "        # print(\"Node:\", node)\n",
    "        # print(\"Neighbors:\", neighbors)\n",
    "        # print(\"Neighbor rank:\", neighbor_rank)\n",
    "        if neighbor_rank not in rank_node_dict:\n",
    "            new_positions.append(cur_pos)\n",
    "            continue\n",
    "\n",
    "        new_position = median_pos(rank_node_dict, neighbor_rank, neighbors)\n",
    "        # print(\"New position:\", new_position)\n",
    "        if new_position == -1:\n",
    "            new_positions.append(cur_pos)\n",
    "        else:\n",
    "            new_positions.append(new_position)\n",
    "\n",
    "    new_positions = np.array(new_positions)\n",
    "    # print(\"New positions:\", new_positions)\n",
    "\n",
    "    return new_positions\n",
    "\n",
    "\n",
    "def layout(rank_node_dict: dict, node_connections_dict: dict, max_iterations: int):\n",
    "    for it in tqdm.tqdm(range(max_iterations)):\n",
    "        # Forward pass\n",
    "        for rank in sorted(rank_node_dict.keys()):\n",
    "            nodes = rank_node_dict[rank]\n",
    "            # print(\"Rank:\", rank)\n",
    "            # print(\"Nodes:\", nodes)\n",
    "            new_positions = get_new_positions(\n",
    "                nodes, rank_node_dict, node_connections_dict, rank, forward=True\n",
    "            )\n",
    "\n",
    "            # Sort the new positions\n",
    "            sorted_new_positions = np.argsort(new_positions)\n",
    "            # print(\"Sorted new positions:\", sorted_new_positions)\n",
    "            rank_node_dict[rank] = nodes[sorted_new_positions]\n",
    "\n",
    "        # Backward pass\n",
    "        for rank in sorted(rank_node_dict.keys(), reverse=True):\n",
    "            nodes = rank_node_dict[rank]\n",
    "            # print(\"Rank:\", rank)\n",
    "            # print(\"Nodes:\", nodes)\n",
    "            new_positions = get_new_positions(\n",
    "                nodes, rank_node_dict, node_connections_dict, rank, forward=False\n",
    "            )\n",
    "\n",
    "            # Sort the new positions\n",
    "            sorted_new_positions = np.argsort(new_positions)\n",
    "            # print(\"Sorted new positions:\", sorted_new_positions)\n",
    "            rank_node_dict[rank] = nodes[sorted_new_positions]\n",
    "\n",
    "    return rank_node_dict\n"
   ]
  },
  {
   "cell_type": "code",
   "execution_count": 8,
   "metadata": {},
   "outputs": [
    {
     "name": "stderr",
     "output_type": "stream",
     "text": [
      "100%|██████████| 20/20 [00:00<00:00, 3046.41it/s]"
     ]
    },
    {
     "name": "stdout",
     "output_type": "stream",
     "text": [
      "New rank node dict: {0: array([0]), 1: array([1, 6, 3, 5, 7, 8]), 2: array([ 2,  9,  4, 10])}\n"
     ]
    },
    {
     "name": "stderr",
     "output_type": "stream",
     "text": [
      "\n"
     ]
    }
   ],
   "source": [
    "new_rank_node_dict = layout(\n",
    "    rank_node_dict=copy.deepcopy(rank_node_dict),\n",
    "    node_connections_dict=copy.deepcopy(node_connections_dict),\n",
    "    max_iterations=max_iterations,\n",
    ")\n",
    "print(\"New rank node dict:\", new_rank_node_dict)"
   ]
  },
  {
   "cell_type": "code",
   "execution_count": null,
   "metadata": {},
   "outputs": [],
   "source": []
  }
 ],
 "metadata": {
  "kernelspec": {
   "display_name": "gpt_graphs",
   "language": "python",
   "name": "python3"
  },
  "language_info": {
   "codemirror_mode": {
    "name": "ipython",
    "version": 3
   },
   "file_extension": ".py",
   "mimetype": "text/x-python",
   "name": "python",
   "nbconvert_exporter": "python",
   "pygments_lexer": "ipython3",
   "version": "3.9.16"
  },
  "orig_nbformat": 4,
  "vscode": {
   "interpreter": {
    "hash": "dafb023fb61a9cb21231b21edf636d8c395a3f8533b033bfdca443941bcc4563"
   }
  }
 },
 "nbformat": 4,
 "nbformat_minor": 2
}
