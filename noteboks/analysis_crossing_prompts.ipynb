{
 "cells": [
  {
   "cell_type": "code",
   "execution_count": 1,
   "metadata": {},
   "outputs": [],
   "source": [
    "%load_ext autoreload\n",
    "%autoreload 2"
   ]
  },
  {
   "cell_type": "code",
   "execution_count": 2,
   "metadata": {},
   "outputs": [],
   "source": [
    "import os\n",
    "os.chdir(\"..\")"
   ]
  },
  {
   "cell_type": "code",
   "execution_count": 12,
   "metadata": {},
   "outputs": [],
   "source": [
    "import re\n",
    "import ast\n",
    "import json\n",
    "import shutil\n",
    "import numpy as np\n",
    "import pandas as pd\n",
    "import seaborn as sns\n",
    "import matplotlib.pyplot as plt\n",
    "\n",
    "from collections import defaultdict\n",
    "\n",
    "from util import count_edge_crossings"
   ]
  },
  {
   "attachments": {},
   "cell_type": "markdown",
   "metadata": {},
   "source": [
    "# Notebook to analyze answers to edge crossing counting tasks"
   ]
  },
  {
   "cell_type": "code",
   "execution_count": null,
   "metadata": {},
   "outputs": [],
   "source": [
    "number_r = re.compile(r\"^\\d*[.,]?\\d*$\")"
   ]
  },
  {
   "attachments": {},
   "cell_type": "markdown",
   "metadata": {},
   "source": [
    "## Load the queries"
   ]
  },
  {
   "cell_type": "code",
   "execution_count": 5,
   "metadata": {},
   "outputs": [],
   "source": [
    "def parse_crossing_query(query: str):\n",
    "    query = query.split(\"\\n\")\n",
    "    layer_a_str = query[3]\n",
    "    layer_b_str = query[4]\n",
    "    edges_str = query[7]\n",
    "\n",
    "    layer_a = ast.literal_eval(layer_a_str.split(\"A:\")[1].strip())\n",
    "    layer_b = ast.literal_eval(layer_b_str.split(\"B:\")[1].strip())\n",
    "    edges = ast.literal_eval(edges_str.split(\"Tuples:\")[1].strip())\n",
    "\n",
    "    return edges, {0: layer_a, 1: layer_b}"
   ]
  },
  {
   "cell_type": "code",
   "execution_count": 9,
   "metadata": {},
   "outputs": [
    {
     "name": "stdout",
     "output_type": "stream",
     "text": [
      "Number of crossing queries: 94\n"
     ]
    }
   ],
   "source": [
    "cross_query_dir = \"queries/crossings_prompts_steps\"\n",
    "cross_query_files = set(sorted(os.listdir(cross_query_dir)))\n",
    "print(\"Number of crossing queries: {}\".format(len(cross_query_files)))\n",
    "\n",
    "cross_queries = {}\n",
    "cross_queries_gt = {}\n",
    "for query_file in cross_query_files:\n",
    "    with open(os.path.join(cross_query_dir, query_file), \"r\") as f:\n",
    "        query = f.read()\n",
    "        edges, ranks = parse_crossing_query(query)\n",
    "        cross_queries[query_file] = (edges, ranks)\n",
    "        gt = count_edge_crossings(edges, ranks)\n",
    "        cross_queries_gt[query_file] = gt"
   ]
  },
  {
   "attachments": {},
   "cell_type": "markdown",
   "metadata": {},
   "source": [
    "## Load answers -- Standard"
   ]
  },
  {
   "cell_type": "code",
   "execution_count": null,
   "metadata": {},
   "outputs": [],
   "source": []
  },
  {
   "attachments": {},
   "cell_type": "markdown",
   "metadata": {},
   "source": [
    "## Load answers -- Step"
   ]
  },
  {
   "cell_type": "code",
   "execution_count": 22,
   "metadata": {},
   "outputs": [
    {
     "name": "stdout",
     "output_type": "stream",
     "text": [
      "Number of crossing Step answers: 94\n"
     ]
    }
   ],
   "source": [
    "cross_step_answers_dir = \"answers/crossings_prompts_steps\"\n",
    "cross_step_answers_files = sorted(os.listdir(cross_step_answers_dir))\n",
    "print(\"Number of crossing Step answers: {}\".format(len(cross_step_answers_files)))"
   ]
  },
  {
   "cell_type": "code",
   "execution_count": 24,
   "metadata": {},
   "outputs": [
    {
     "name": "stdout",
     "output_type": "stream",
     "text": [
      "Answer is a number: 69\n",
      "Answer is not a number: 27\n",
      "dict_keys(['grafo1643.10_0_1.txt', 'grafo1643.10_4_5.txt', 'grafo1643.10_5_6.txt', 'grafo1657.10_1_2.txt', 'grafo2105.10_0_1.txt', 'grafo219.11_0_1.txt', 'grafo267.11_2_3.txt', 'grafo2812.11_0_1.txt', 'grafo2812.11_1_2.txt', 'grafo2812.11_3_4.txt', 'grafo2896.10_0_1.txt', 'grafo2896.10_4_5.txt', 'grafo2931.11_1_2.txt', 'grafo2931.11_2_3.txt', 'grafo2953.11_1_2.txt', 'grafo2964.11_2_3.txt', 'grafo376.10_0_1.txt', 'grafo376.10_3_4.txt', 'grafo462.10_2_3.txt', 'grafo462.10_3_4.txt', 'grafo532.11_1_2.txt', 'grafo717.10_0_1.txt', 'grafo717.10_4_5.txt', 'grafo717.10_5_6.txt', 'grafo857.11_2_3.txt', 'grafo857.11_7_8.txt', 'grafo938.10_2_3.txt'])\n",
      "Answer is an Integer: 69\n",
      "Answer is a Float: 0\n"
     ]
    }
   ],
   "source": [
    "cross_step_is_number = {}\n",
    "cross_step_not_number = {}\n",
    "\n",
    "for cross_step_file in cross_step_answers_files:\n",
    "    answer = open(os.path.join(cross_step_answers_dir, cross_step_file), \"r\").read().strip()\n",
    "    answer = answer.split(\"\\n\")[-1].strip()\n",
    "    \n",
    "    answer = answer.split()\n",
    "\n",
    "    found_number = False\n",
    "    for a_word in answer:\n",
    "        if number_r.match(a_word):\n",
    "            try:\n",
    "                cross_step_is_number[cross_step_file] = float(a_word)\n",
    "                found_number = True\n",
    "            except:\n",
    "                cross_step_not_number[cross_step_file] = answer\n",
    "                break\n",
    "    if not found_number:\n",
    "        cross_step_not_number[cross_step_file] = answer\n",
    "\n",
    "print(\"Answer is a number:\", len(cross_step_is_number))\n",
    "print(\"Answer is not a number:\", len(cross_step_not_number))\n",
    "print(cross_step_not_number.keys())\n",
    "\n",
    "cross_step_integer = {}\n",
    "cross_step_float = {}\n",
    "for cross_step_file, answer in cross_step_is_number.items():\n",
    "    if answer.is_integer():\n",
    "        cross_step_integer[cross_step_file] = int(answer)\n",
    "    else:\n",
    "        cross_step_float[cross_step_file] = answer\n",
    "\n",
    "print(\"Answer is an Integer:\", len(cross_step_integer))\n",
    "print(\"Answer is a Float:\", len(cross_step_float))"
   ]
  },
  {
   "cell_type": "code",
   "execution_count": 28,
   "metadata": {},
   "outputs": [],
   "source": [
    "step_correct = 0.0\n",
    "step_more = 0.0\n",
    "step_less = 0.0\n",
    "step_wrong = float(len(cross_step_not_number) + len(cross_step_float))\n",
    "\n",
    "for cross_step_file, answer in cross_step_integer.items():\n",
    "    gt = cross_queries_gt[cross_step_file]\n",
    "    if answer == gt:\n",
    "        step_correct += 1.0\n",
    "    elif answer > gt:\n",
    "        step_more += 1.0\n",
    "    else:\n",
    "        step_less += 1.0\n",
    "\n",
    "step_data = {\n",
    "    \"Correct\": step_correct,\n",
    "    \"Incorrect more\": step_more,\n",
    "    \"Incorrect less\": step_less,\n",
    "    \"Malformed\": step_wrong\n",
    "}\n",
    "step_df = pd.DataFrame.from_dict(step_data, orient=\"index\", columns=[\"Count\"])"
   ]
  },
  {
   "cell_type": "code",
   "execution_count": 29,
   "metadata": {},
   "outputs": [
    {
     "data": {
      "image/png": "[encoded data removed]",
      "text/plain": [
       "<Figure size 800x300 with 1 Axes>"
      ]
     },
     "metadata": {},
     "output_type": "display_data"
    }
   ],
   "source": [
    "sns.set(rc={'figure.figsize':(8,3)})\n",
    "\n",
    "# Use Seaborn to create a bar chart\n",
    "sns.barplot(x=step_df.index, y='Count', data=step_df, color='orange')\n",
    "\n",
    "# Set the labels for the x and y axes\n",
    "# plt.xSabel('Label')\n",
    "plt.ylabel('Count')\n",
    "\n",
    "# Show the plot\n",
    "plt.show()"
   ]
  },
  {
   "attachments": {},
   "cell_type": "markdown",
   "metadata": {},
   "source": [
    "## Load answers -- ICL"
   ]
  },
  {
   "cell_type": "code",
   "execution_count": 11,
   "metadata": {},
   "outputs": [
    {
     "name": "stdout",
     "output_type": "stream",
     "text": [
      "Number of crossing ICL answers: 10\n"
     ]
    }
   ],
   "source": [
    "cross_icl_answers_dir = \"answers/crossings_prompts_icl\"\n",
    "cross_icl_answers_files = sorted(os.listdir(cross_icl_answers_dir))\n",
    "print(\"Number of crossing ICL answers: {}\".format(len(cross_icl_answers_files)))"
   ]
  },
  {
   "cell_type": "code",
   "execution_count": 15,
   "metadata": {},
   "outputs": [
    {
     "name": "stdout",
     "output_type": "stream",
     "text": [
      "Answer is a number: 10\n",
      "Answer is not a number: 0\n",
      "dict_keys([])\n",
      "Answer is an Integer: 10\n",
      "Answer is a Float: 0\n"
     ]
    }
   ],
   "source": [
    "cross_icl_is_number = {}\n",
    "cross_icl_not_number = {}\n",
    "\n",
    "for cross_icl_file in cross_icl_answers_files:\n",
    "    answer = open(os.path.join(cross_icl_answers_dir, cross_icl_file), \"r\").read().strip()\n",
    "    answer = answer.split(\"\\n\")[-1].strip()\n",
    "    \n",
    "    if number_r.match(answer):\n",
    "        cross_icl_is_number[cross_icl_file] = float(answer)\n",
    "    else:\n",
    "        cross_icl_not_number[cross_icl_file] = answer\n",
    "\n",
    "print(\"Answer is a number:\", len(cross_icl_is_number))\n",
    "print(\"Answer is not a number:\", len(cross_icl_not_number))\n",
    "print(cross_icl_not_number.keys())\n",
    "\n",
    "cross_icl_integer = {}\n",
    "cross_icl_float = {}\n",
    "for cross_icl_file, answer in cross_icl_is_number.items():\n",
    "    if answer.is_integer():\n",
    "        cross_icl_integer[cross_icl_file] = int(answer)\n",
    "    else:\n",
    "        cross_icl_float[cross_icl_file] = answer\n",
    "\n",
    "print(\"Answer is an Integer:\", len(cross_icl_integer))\n",
    "print(\"Answer is a Float:\", len(cross_icl_float))"
   ]
  },
  {
   "cell_type": "code",
   "execution_count": 18,
   "metadata": {},
   "outputs": [],
   "source": [
    "icl_correct = 0.0\n",
    "icl_more = 0.0\n",
    "icl_less = 0.0\n",
    "icl_wrong = float(len(cross_icl_not_number) + len(cross_icl_float))\n",
    "\n",
    "for cross_icl_file, answer in cross_icl_integer.items():\n",
    "    gt = cross_queries_gt[cross_icl_file]\n",
    "    if answer == gt:\n",
    "        icl_correct += 1.0\n",
    "    elif answer > gt:\n",
    "        icl_more += 1.0\n",
    "    else:\n",
    "        icl_less += 1.0\n",
    "\n",
    "icl_data = {\n",
    "    \"Correct\": icl_correct,\n",
    "    \"Incorrect more\": icl_more,\n",
    "    \"Incorrect less\": icl_less,\n",
    "    \"Malformed\": icl_wrong\n",
    "}\n",
    "icl_df = pd.DataFrame.from_dict(icl_data, orient=\"index\", columns=[\"Count\"])"
   ]
  },
  {
   "cell_type": "code",
   "execution_count": 20,
   "metadata": {},
   "outputs": [
    {
     "data": {
      "image/png": "[encoded data removed]",
      "text/plain": [
       "<Figure size 800x300 with 1 Axes>"
      ]
     },
     "metadata": {},
     "output_type": "display_data"
    }
   ],
   "source": [
    "sns.set(rc={'figure.figsize':(8,3)})\n",
    "\n",
    "# Use Seaborn to create a bar chart\n",
    "sns.barplot(x=icl_df.index, y='Count', data=icl_df, color='green')\n",
    "\n",
    "# Set the labels for the x and y axes\n",
    "# plt.xSabel('Label')\n",
    "plt.ylabel('Count')\n",
    "\n",
    "# Show the plot\n",
    "plt.show()"
   ]
  },
  {
   "cell_type": "code",
   "execution_count": null,
   "metadata": {},
   "outputs": [],
   "source": []
  }
 ],
 "metadata": {
  "kernelspec": {
   "display_name": "gpt_graphs",
   "language": "python",
   "name": "python3"
  },
  "language_info": {
   "codemirror_mode": {
    "name": "ipython",
    "version": 3
   },
   "file_extension": ".py",
   "mimetype": "text/x-python",
   "name": "python",
   "nbconvert_exporter": "python",
   "pygments_lexer": "ipython3",
   "version": "3.9.16"
  },
  "orig_nbformat": 4,
  "vscode": {
   "interpreter": {
    "hash": "dafb023fb61a9cb21231b21edf636d8c395a3f8533b033bfdca443941bcc4563"
   }
  }
 },
 "nbformat": 4,
 "nbformat_minor": 2
}
