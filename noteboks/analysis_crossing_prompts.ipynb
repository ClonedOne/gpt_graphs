{
 "cells": [
  {
   "cell_type": "code",
   "execution_count": 1,
   "metadata": {},
   "outputs": [],
   "source": [
    "%load_ext autoreload\n",
    "%autoreload 2"
   ]
  },
  {
   "cell_type": "code",
   "execution_count": 2,
   "metadata": {},
   "outputs": [],
   "source": [
    "import os\n",
    "os.chdir(\"..\")"
   ]
  },
  {
   "cell_type": "code",
   "execution_count": 27,
   "metadata": {},
   "outputs": [],
   "source": [
    "import re\n",
    "import ast\n",
    "import numpy as np\n",
    "import pandas as pd\n",
    "import seaborn as sns\n",
    "import matplotlib.pyplot as plt\n",
    "\n",
    "from collections import Counter\n",
    "\n",
    "from util import count_edge_crossings"
   ]
  },
  {
   "attachments": {},
   "cell_type": "markdown",
   "metadata": {},
   "source": [
    "# Notebook to analyze answers to edge crossing counting tasks"
   ]
  },
  {
   "cell_type": "code",
   "execution_count": 4,
   "metadata": {},
   "outputs": [],
   "source": [
    "number_r = re.compile(r\"^\\d*[.,]?\\d*$\")"
   ]
  },
  {
   "attachments": {},
   "cell_type": "markdown",
   "metadata": {},
   "source": [
    "## Load the queries"
   ]
  },
  {
   "cell_type": "code",
   "execution_count": 5,
   "metadata": {},
   "outputs": [],
   "source": [
    "def parse_crossing_query(query: str):\n",
    "    query = query.split(\"\\n\")\n",
    "    layer_a_str = query[3]\n",
    "    layer_b_str = query[4]\n",
    "    edges_str = query[7]\n",
    "\n",
    "    layer_a = ast.literal_eval(layer_a_str.split(\"A:\")[1].strip())\n",
    "    layer_b = ast.literal_eval(layer_b_str.split(\"B:\")[1].strip())\n",
    "    edges = ast.literal_eval(edges_str.split(\"Tuples:\")[1].strip())\n",
    "\n",
    "    return edges, {0: layer_a, 1: layer_b}"
   ]
  },
  {
   "cell_type": "code",
   "execution_count": 6,
   "metadata": {},
   "outputs": [
    {
     "name": "stdout",
     "output_type": "stream",
     "text": [
      "Number of crossing queries: 94\n"
     ]
    }
   ],
   "source": [
    "cross_query_dir = \"queries/crossings_prompts_steps\"\n",
    "cross_query_files = set(sorted(os.listdir(cross_query_dir)))\n",
    "print(\"Number of crossing queries: {}\".format(len(cross_query_files)))\n",
    "\n",
    "cross_queries = {}\n",
    "cross_queries_gt = {}\n",
    "for query_file in cross_query_files:\n",
    "    with open(os.path.join(cross_query_dir, query_file), \"r\") as f:\n",
    "        query = f.read()\n",
    "        edges, ranks = parse_crossing_query(query)\n",
    "        cross_queries[query_file] = (edges, ranks)\n",
    "        gt = count_edge_crossings(edges, ranks)\n",
    "        cross_queries_gt[query_file] = gt"
   ]
  },
  {
   "cell_type": "code",
   "execution_count": 29,
   "metadata": {},
   "outputs": [
    {
     "name": "stdout",
     "output_type": "stream",
     "text": [
      "[(0.0, 85), (2.0, 3), (1.0, 3), (3.0, 2), (7.0, 1)]\n"
     ]
    }
   ],
   "source": [
    "cross_queries_gt_ct = Counter(cross_queries_gt.values())\n",
    "print(cross_queries_gt_ct.most_common())"
   ]
  },
  {
   "attachments": {},
   "cell_type": "markdown",
   "metadata": {},
   "source": [
    "## Load answers -- Standard"
   ]
  },
  {
   "cell_type": "code",
   "execution_count": 7,
   "metadata": {},
   "outputs": [
    {
     "name": "stdout",
     "output_type": "stream",
     "text": [
      "Number of crossing standard answers: 94\n"
     ]
    }
   ],
   "source": [
    "cross_std_answers_dir = \"answers/crossings_prompts\"\n",
    "cross_std_answers_files = set(os.listdir(cross_std_answers_dir))\n",
    "print(\"Number of crossing standard answers: {}\".format(len(cross_std_answers_files)))"
   ]
  },
  {
   "cell_type": "code",
   "execution_count": 8,
   "metadata": {},
   "outputs": [],
   "source": [
    "cross_std_tuples = {}\n",
    "cross_std_not_tuples = {}\n",
    "cross_std_no = {}\n",
    "\n",
    "for cross_std_file in sorted(cross_std_answers_files):\n",
    "    # if cross_std_file != \"grafo2931.11_2_3.txt\":continue\n",
    "\n",
    "    answer = open(os.path.join(cross_std_answers_dir, cross_std_file), \"r\").read()\n",
    "    # print(answer)\n",
    "\n",
    "    a_lines = answer.split(\"\\n\")\n",
    "    if len(a_lines) == 1:\n",
    "\n",
    "        # If \"no\" is in the answer, then likely there were no crossings\n",
    "        if \"no\" in answer:\n",
    "            cross_std_no[cross_std_file] = answer\n",
    "            continue\n",
    "\n",
    "        # There are cases in which the model replied with a single tuple \n",
    "        # instead of two. We can filter those out as malformed answers\n",
    "        if answer.count(\"(\") == 1 and answer.count(\")\") == 1:\n",
    "            cross_std_not_tuples[cross_std_file] = answer\n",
    "            continue\n",
    "    \n",
    "    tuples_in_answer = []\n",
    "    # print(a_lines)\n",
    "    for a_line in a_lines:\n",
    "        if a_line == \"\":\n",
    "            continue\n",
    "        \n",
    "        if a_line.split()[-1] == \"cross.\": \n",
    "            a_line = a_line[:-6]\n",
    "        if a_line.split()[-1] == \"cross\":\n",
    "            a_line = a_line[:-5]\n",
    "\n",
    "        # print(a_line)\n",
    "\n",
    "        if \"and\" in a_line:\n",
    "            a_line = a_line.split(\"and\")\n",
    "        elif \"->\" in a_line:\n",
    "            a_line = a_line.split(\"->\")\n",
    "        elif \"-\" in a_line:\n",
    "            a_line = a_line.split(\"-\")\n",
    "        elif \"crosses with\" in a_line:\n",
    "            a_line = a_line.split(\"crosses with\")\n",
    "        elif \"crosses\" in a_line:\n",
    "            a_line = a_line.split(\"crosses\")\n",
    "        elif \"), (\" in a_line:\n",
    "            a_line = a_line.split(\"), (\")\n",
    "            a_line[0] = a_line[0] + \")\"\n",
    "            a_line[-1] = \"(\" + a_line[1]\n",
    "        elif \") (\" in a_line:\n",
    "            a_line = a_line.split(\") (\")\n",
    "            a_line[0] = a_line[0] + \")\"\n",
    "            a_line[-1] = \"(\" + a_line[1]\n",
    "\n",
    "        # print(a_line)\n",
    "        if len(a_line) != 2:\n",
    "            continue\n",
    "\n",
    "        try:\n",
    "            tup_0 = ast.literal_eval(a_line[0].strip())\n",
    "            tup_1 = ast.literal_eval(a_line[1].strip())\n",
    "            tuples_in_answer.append((tup_0, tup_1))\n",
    "        \n",
    "        except Exception as e:\n",
    "            # print(\"Exception: {} - {} - {}\".format(a_line[0], a_line[1], e))\n",
    "            continue\n",
    "\n",
    "    if len(tuples_in_answer) == 0:\n",
    "        cross_std_not_tuples[cross_std_file] = answer\n",
    "        continue\n",
    "\n",
    "    cross_std_tuples[cross_std_file] = len(tuples_in_answer)"
   ]
  },
  {
   "cell_type": "code",
   "execution_count": 9,
   "metadata": {},
   "outputs": [
    {
     "name": "stdout",
     "output_type": "stream",
     "text": [
      "Number of crossing standard answers that are 'no': 18\n"
     ]
    }
   ],
   "source": [
    "# We manually checked the \"no\" answers and they all correspond to no crossings\n",
    "print(\"Number of crossing standard answers that are 'no': {}\".format(len(cross_std_no)))\n",
    "to_remove_std = list(cross_std_no.keys())\n",
    "for ans in to_remove_std:\n",
    "    cross_std_tuples[ans] = 0\n",
    "    del cross_std_no[ans]"
   ]
  },
  {
   "cell_type": "code",
   "execution_count": 10,
   "metadata": {},
   "outputs": [
    {
     "name": "stdout",
     "output_type": "stream",
     "text": [
      "Number of crossing standard answers that are not tuples: 12\n"
     ]
    }
   ],
   "source": [
    "print(\"Number of crossing standard answers that are not tuples: {}\".format(len(cross_std_not_tuples)))\n",
    "\n",
    "# We can manually look at the potentially malformed answers\n",
    "# display(cross_std_not_tuples)\n",
    "add_std_valid = {}\n",
    "add_std_valid[\"grafo267.11_3_4.txt\"] = 0\n",
    "add_std_valid[\"grafo376.10_0_1.txt\"] = 0\n",
    "add_std_valid[\"grafo376.10_1_2.txt\"] = 1\n",
    "add_std_valid[\"grafo532.11_3_4.txt\"] = 1\n",
    "add_std_valid[\"grafo541.10_4_5.txt\"] = 1\n",
    "add_std_valid[\"grafo857.11_1_2.txt\"] = 0\n",
    "for k in add_std_valid.keys():\n",
    "    cross_std_tuples[k] = add_std_valid[k]\n",
    "    del cross_std_not_tuples[k]"
   ]
  },
  {
   "cell_type": "code",
   "execution_count": 11,
   "metadata": {},
   "outputs": [
    {
     "name": "stdout",
     "output_type": "stream",
     "text": [
      "Number of crossing standard answers that are numbers: 88\n",
      "Number of crossing standard answers that are not tuples: 6\n"
     ]
    }
   ],
   "source": [
    "print(\"Number of crossing standard answers that are numbers: {}\".format(len(cross_std_tuples)))\n",
    "print(\"Number of crossing standard answers that are not tuples: {}\".format(len(cross_std_not_tuples)))"
   ]
  },
  {
   "cell_type": "code",
   "execution_count": 12,
   "metadata": {},
   "outputs": [],
   "source": [
    "std_correct = 0.0\n",
    "std_more = 0.0\n",
    "std_less = 0.0\n",
    "std_wrong = float(len(cross_std_not_tuples))\n",
    "\n",
    "for cross_std_file, answer in cross_std_tuples.items():\n",
    "    gt = cross_queries_gt[cross_std_file]\n",
    "    if answer == gt:\n",
    "        std_correct += 1.0\n",
    "    elif answer > gt:\n",
    "        std_more += 1.0\n",
    "    else:\n",
    "        std_less += 1.0\n",
    "\n",
    "std_data = {\n",
    "    \"Correct\": std_correct,\n",
    "    \"Incorrect >\": std_more,\n",
    "    \"Incorrect <\": std_less,\n",
    "    \"Malformed\": std_wrong\n",
    "}\n",
    "std_df = pd.DataFrame.from_dict(std_data, orient=\"index\", columns=[\"Count\"])"
   ]
  },
  {
   "cell_type": "code",
   "execution_count": 13,
   "metadata": {},
   "outputs": [
    {
     "data": {
      "image/png": "[encoded data removed]",
      "text/plain": [
       "<Figure size 800x300 with 1 Axes>"
      ]
     },
     "metadata": {},
     "output_type": "display_data"
    }
   ],
   "source": [
    "sns.set(rc={'figure.figsize':(8,3)})\n",
    "\n",
    "# Use Seaborn to create a bar chart\n",
    "sns.barplot(x=std_df.index, y='Count', data=std_df, color='skyblue')\n",
    "\n",
    "# Set the labels for the x and y axes\n",
    "# plt.xSabel('Label')\n",
    "plt.ylabel('Count')\n",
    "\n",
    "# Show the plot\n",
    "plt.show()"
   ]
  },
  {
   "attachments": {},
   "cell_type": "markdown",
   "metadata": {},
   "source": [
    "## Load answers -- Step"
   ]
  },
  {
   "cell_type": "code",
   "execution_count": 14,
   "metadata": {},
   "outputs": [
    {
     "name": "stdout",
     "output_type": "stream",
     "text": [
      "Number of crossing Step answers: 94\n"
     ]
    }
   ],
   "source": [
    "cross_step_answers_dir = \"answers/crossings_prompts_steps\"\n",
    "cross_step_answers_files = sorted(os.listdir(cross_step_answers_dir))\n",
    "print(\"Number of crossing Step answers: {}\".format(len(cross_step_answers_files)))"
   ]
  },
  {
   "cell_type": "code",
   "execution_count": 15,
   "metadata": {},
   "outputs": [
    {
     "name": "stdout",
     "output_type": "stream",
     "text": [
      "Answer is a number: 86\n",
      "Answer is not a number: 8\n",
      "dict_keys(['grafo1657.10_1_2.txt', 'grafo2105.10_0_1.txt', 'grafo219.11_0_1.txt', 'grafo2964.11_2_3.txt', 'grafo376.10_0_1.txt', 'grafo462.10_2_3.txt', 'grafo717.10_0_1.txt', 'grafo938.10_2_3.txt'])\n",
      "Answer is an Integer: 86\n",
      "Answer is a Float: 0\n"
     ]
    }
   ],
   "source": [
    "cross_step_is_number = {}\n",
    "cross_step_not_number = {}\n",
    "\n",
    "for cross_step_file in cross_step_answers_files:\n",
    "    answer = open(os.path.join(cross_step_answers_dir, cross_step_file), \"r\").read().strip()\n",
    "    answer = answer.split(\"\\n\")[-1].strip()\n",
    "    \n",
    "    answer = answer.split()\n",
    "\n",
    "    numbers_in_line = []\n",
    "\n",
    "    for a_word in answer:\n",
    "        # Remove \",\"\n",
    "        a_word = a_word.replace(\",\", \"\")\n",
    "        if number_r.match(a_word):\n",
    "            try:\n",
    "                a_nun = float(a_word)\n",
    "                numbers_in_line.append(a_nun)\n",
    "            except:\n",
    "                continue\n",
    "    if len(numbers_in_line) == 0:\n",
    "        cross_step_not_number[cross_step_file] = answer\n",
    "    else:\n",
    "        cross_step_is_number[cross_step_file] = numbers_in_line[-1]\n",
    "\n",
    "print(\"Answer is a number:\", len(cross_step_is_number))\n",
    "print(\"Answer is not a number:\", len(cross_step_not_number))\n",
    "print(cross_step_not_number.keys())\n",
    "\n",
    "cross_step_integer = {}\n",
    "cross_step_float = {}\n",
    "for cross_step_file, answer in cross_step_is_number.items():\n",
    "    if answer.is_integer():\n",
    "        cross_step_integer[cross_step_file] = int(answer)\n",
    "    else:\n",
    "        cross_step_float[cross_step_file] = answer\n",
    "\n",
    "print(\"Answer is an Integer:\", len(cross_step_integer))\n",
    "print(\"Answer is a Float:\", len(cross_step_float))"
   ]
  },
  {
   "cell_type": "code",
   "execution_count": 17,
   "metadata": {},
   "outputs": [],
   "source": [
    "# We can manually analyze the answers that are not parsed as numbers\n",
    "# grafo1657.10_1_2.txt, grafo2964.11_2_3.txt are malformed\n",
    "additional_cross_step_number = {}\n",
    "additional_cross_step_number[\"grafo2105.10_0_1.txt\"] = 0\n",
    "additional_cross_step_number[\"grafo219.11_0_1.txt\"] = 0\n",
    "additional_cross_step_number[\"grafo376.10_0_1.txt\"] = 0\n",
    "additional_cross_step_number[\"grafo462.10_2_3.txt\"] = 0\n",
    "additional_cross_step_number[\"grafo717.10_0_1.txt\"] = 0\n",
    "additional_cross_step_number[\"grafo938.10_2_3.txt\"] = 0\n",
    "for k in additional_cross_step_number:\n",
    "    _ = cross_step_not_number.pop(k)"
   ]
  },
  {
   "cell_type": "code",
   "execution_count": 18,
   "metadata": {},
   "outputs": [],
   "source": [
    "step_correct = 0.0\n",
    "step_more = 0.0\n",
    "step_less = 0.0\n",
    "step_wrong = float(len(cross_step_not_number) + len(cross_step_float))\n",
    "\n",
    "for cross_step_file, answer in cross_step_integer.items():\n",
    "    gt = cross_queries_gt[cross_step_file]\n",
    "    if answer == gt:\n",
    "        step_correct += 1.0\n",
    "    elif answer > gt:\n",
    "        step_more += 1.0\n",
    "    else:\n",
    "        step_less += 1.0\n",
    "\n",
    "step_data = {\n",
    "    \"Correct\": step_correct,\n",
    "    \"Incorrect >\": step_more,\n",
    "    \"Incorrect <\": step_less,\n",
    "    \"Malformed\": step_wrong\n",
    "}\n",
    "step_df = pd.DataFrame.from_dict(step_data, orient=\"index\", columns=[\"Count\"])"
   ]
  },
  {
   "cell_type": "code",
   "execution_count": 19,
   "metadata": {},
   "outputs": [
    {
     "data": {
      "image/png": "[encoded data removed]",
      "text/plain": [
       "<Figure size 800x300 with 1 Axes>"
      ]
     },
     "metadata": {},
     "output_type": "display_data"
    }
   ],
   "source": [
    "sns.set(rc={'figure.figsize':(8,3)})\n",
    "\n",
    "# Use Seaborn to create a bar chart\n",
    "sns.barplot(x=step_df.index, y='Count', data=step_df, color='orange')\n",
    "\n",
    "# Set the labels for the x and y axes\n",
    "# plt.xSabel('Label')\n",
    "plt.ylabel('Count')\n",
    "\n",
    "# Show the plot\n",
    "plt.show()"
   ]
  },
  {
   "attachments": {},
   "cell_type": "markdown",
   "metadata": {},
   "source": [
    "## Load answers -- ICL"
   ]
  },
  {
   "cell_type": "code",
   "execution_count": 20,
   "metadata": {},
   "outputs": [
    {
     "name": "stdout",
     "output_type": "stream",
     "text": [
      "Number of crossing ICL answers: 81\n"
     ]
    }
   ],
   "source": [
    "cross_icl_answers_dir = \"answers/crossings_prompts_icl\"\n",
    "cross_icl_answers_files = sorted(os.listdir(cross_icl_answers_dir))\n",
    "print(\"Number of crossing ICL answers: {}\".format(len(cross_icl_answers_files)))"
   ]
  },
  {
   "cell_type": "code",
   "execution_count": 21,
   "metadata": {},
   "outputs": [
    {
     "name": "stdout",
     "output_type": "stream",
     "text": [
      "Answer is a number: 81\n",
      "Answer is not a number: 0\n",
      "dict_keys([])\n",
      "Answer is an Integer: 81\n",
      "Answer is a Float: 0\n"
     ]
    }
   ],
   "source": [
    "cross_icl_is_number = {}\n",
    "cross_icl_not_number = {}\n",
    "\n",
    "for cross_icl_file in cross_icl_answers_files:\n",
    "    answer = open(os.path.join(cross_icl_answers_dir, cross_icl_file), \"r\").read().strip()\n",
    "    answer = answer.split(\"\\n\")[-1].strip()\n",
    "    \n",
    "    if number_r.match(answer):\n",
    "        cross_icl_is_number[cross_icl_file] = float(answer)\n",
    "    else:\n",
    "        cross_icl_not_number[cross_icl_file] = answer\n",
    "\n",
    "print(\"Answer is a number:\", len(cross_icl_is_number))\n",
    "print(\"Answer is not a number:\", len(cross_icl_not_number))\n",
    "print(cross_icl_not_number.keys())\n",
    "\n",
    "cross_icl_integer = {}\n",
    "cross_icl_float = {}\n",
    "for cross_icl_file, answer in cross_icl_is_number.items():\n",
    "    if answer.is_integer():\n",
    "        cross_icl_integer[cross_icl_file] = int(answer)\n",
    "    else:\n",
    "        cross_icl_float[cross_icl_file] = answer\n",
    "\n",
    "print(\"Answer is an Integer:\", len(cross_icl_integer))\n",
    "print(\"Answer is a Float:\", len(cross_icl_float))"
   ]
  },
  {
   "cell_type": "code",
   "execution_count": 22,
   "metadata": {},
   "outputs": [],
   "source": [
    "icl_correct = 0.0\n",
    "icl_more = 0.0\n",
    "icl_less = 0.0\n",
    "icl_wrong = float(len(cross_icl_not_number) + len(cross_icl_float))\n",
    "\n",
    "for cross_icl_file, answer in cross_icl_integer.items():\n",
    "    gt = cross_queries_gt[cross_icl_file]\n",
    "    if answer == gt:\n",
    "        icl_correct += 1.0\n",
    "    elif answer > gt:\n",
    "        icl_more += 1.0\n",
    "    else:\n",
    "        icl_less += 1.0\n",
    "\n",
    "icl_data = {\n",
    "    \"Correct\": icl_correct,\n",
    "    \"Incorrect >\": icl_more,\n",
    "    \"Incorrect <\": icl_less,\n",
    "    \"Malformed\": icl_wrong\n",
    "}\n",
    "icl_df = pd.DataFrame.from_dict(icl_data, orient=\"index\", columns=[\"Count\"])"
   ]
  },
  {
   "cell_type": "code",
   "execution_count": 23,
   "metadata": {},
   "outputs": [
    {
     "data": {
      "image/png": "[encoded data removed]",
      "text/plain": [
       "<Figure size 800x300 with 1 Axes>"
      ]
     },
     "metadata": {},
     "output_type": "display_data"
    }
   ],
   "source": [
    "sns.set(rc={'figure.figsize':(8,3)})\n",
    "\n",
    "# Use Seaborn to create a bar chart\n",
    "sns.barplot(x=icl_df.index, y='Count', data=icl_df, color='green')\n",
    "\n",
    "# Set the labels for the x and y axes\n",
    "# plt.xSabel('Label')\n",
    "plt.ylabel('Count')\n",
    "\n",
    "# Show the plot\n",
    "plt.show()"
   ]
  },
  {
   "attachments": {},
   "cell_type": "markdown",
   "metadata": {},
   "source": [
    "## Side by side comparison"
   ]
  },
  {
   "cell_type": "code",
   "execution_count": 24,
   "metadata": {},
   "outputs": [
    {
     "data": {
      "text/html": [
       "<div>\n",
       "<style scoped>\n",
       "    .dataframe tbody tr th:only-of-type {\n",
       "        vertical-align: middle;\n",
       "    }\n",
       "\n",
       "    .dataframe tbody tr th {\n",
       "        vertical-align: top;\n",
       "    }\n",
       "\n",
       "    .dataframe thead th {\n",
       "        text-align: right;\n",
       "    }\n",
       "</style>\n",
       "<table border=\"1\" class=\"dataframe\">\n",
       "  <thead>\n",
       "    <tr style=\"text-align: right;\">\n",
       "      <th></th>\n",
       "      <th>index</th>\n",
       "      <th>Count</th>\n",
       "      <th>Type</th>\n",
       "    </tr>\n",
       "  </thead>\n",
       "  <tbody>\n",
       "    <tr>\n",
       "      <th>0</th>\n",
       "      <td>Correct</td>\n",
       "      <td>23.404255</td>\n",
       "      <td>Standard</td>\n",
       "    </tr>\n",
       "    <tr>\n",
       "      <th>1</th>\n",
       "      <td>Incorrect &gt;</td>\n",
       "      <td>69.148936</td>\n",
       "      <td>Standard</td>\n",
       "    </tr>\n",
       "    <tr>\n",
       "      <th>2</th>\n",
       "      <td>Incorrect &lt;</td>\n",
       "      <td>1.063830</td>\n",
       "      <td>Standard</td>\n",
       "    </tr>\n",
       "    <tr>\n",
       "      <th>3</th>\n",
       "      <td>Malformed</td>\n",
       "      <td>6.382979</td>\n",
       "      <td>Standard</td>\n",
       "    </tr>\n",
       "    <tr>\n",
       "      <th>4</th>\n",
       "      <td>Correct</td>\n",
       "      <td>57.446809</td>\n",
       "      <td>Step</td>\n",
       "    </tr>\n",
       "    <tr>\n",
       "      <th>5</th>\n",
       "      <td>Incorrect &gt;</td>\n",
       "      <td>34.042553</td>\n",
       "      <td>Step</td>\n",
       "    </tr>\n",
       "    <tr>\n",
       "      <th>6</th>\n",
       "      <td>Incorrect &lt;</td>\n",
       "      <td>0.000000</td>\n",
       "      <td>Step</td>\n",
       "    </tr>\n",
       "    <tr>\n",
       "      <th>7</th>\n",
       "      <td>Malformed</td>\n",
       "      <td>2.127660</td>\n",
       "      <td>Step</td>\n",
       "    </tr>\n",
       "    <tr>\n",
       "      <th>8</th>\n",
       "      <td>Correct</td>\n",
       "      <td>75.308642</td>\n",
       "      <td>ICL</td>\n",
       "    </tr>\n",
       "    <tr>\n",
       "      <th>9</th>\n",
       "      <td>Incorrect &gt;</td>\n",
       "      <td>20.987654</td>\n",
       "      <td>ICL</td>\n",
       "    </tr>\n",
       "    <tr>\n",
       "      <th>10</th>\n",
       "      <td>Incorrect &lt;</td>\n",
       "      <td>3.703704</td>\n",
       "      <td>ICL</td>\n",
       "    </tr>\n",
       "    <tr>\n",
       "      <th>11</th>\n",
       "      <td>Malformed</td>\n",
       "      <td>0.000000</td>\n",
       "      <td>ICL</td>\n",
       "    </tr>\n",
       "  </tbody>\n",
       "</table>\n",
       "</div>"
      ],
      "text/plain": [
       "          index      Count      Type\n",
       "0       Correct  23.404255  Standard\n",
       "1   Incorrect >  69.148936  Standard\n",
       "2   Incorrect <   1.063830  Standard\n",
       "3     Malformed   6.382979  Standard\n",
       "4       Correct  57.446809      Step\n",
       "5   Incorrect >  34.042553      Step\n",
       "6   Incorrect <   0.000000      Step\n",
       "7     Malformed   2.127660      Step\n",
       "8       Correct  75.308642       ICL\n",
       "9   Incorrect >  20.987654       ICL\n",
       "10  Incorrect <   3.703704       ICL\n",
       "11    Malformed   0.000000       ICL"
      ]
     },
     "metadata": {},
     "output_type": "display_data"
    }
   ],
   "source": [
    "std_pt = std_df / len(cross_std_answers_files) * 100\n",
    "step_pt = step_df / len(cross_step_answers_files) * 100\n",
    "icl_pt = icl_df / len(cross_icl_answers_files) * 100\n",
    "\n",
    "\n",
    "std_pt[\"Type\"] = \"Standard\"\n",
    "step_pt[\"Type\"] = \"Step\"\n",
    "icl_pt[\"Type\"] = \"ICL\"\n",
    "to_plot = pd.concat([std_pt, step_pt, icl_pt]).reset_index()\n",
    "display(to_plot)"
   ]
  },
  {
   "cell_type": "code",
   "execution_count": 25,
   "metadata": {},
   "outputs": [
    {
     "data": {
      "image/png": "[encoded data removed]",
      "text/plain": [
       "<Figure size 1000x300 with 1 Axes>"
      ]
     },
     "metadata": {},
     "output_type": "display_data"
    }
   ],
   "source": [
    "sns.set(rc={'figure.figsize':(10,3)})\n",
    "\n",
    "sns.barplot(x=\"index\", y='Count', data=to_plot, hue='Type', palette=\"pastel\")\n",
    "\n",
    "# Set the labels for the x and y axes\n",
    "plt.ylabel('Percentage')\n",
    "plt.xlabel(\"Result\")\n",
    "\n",
    "# Show the plot\n",
    "plt.show()"
   ]
  },
  {
   "attachments": {},
   "cell_type": "markdown",
   "metadata": {},
   "source": [
    "## Non-0 queries"
   ]
  },
  {
   "cell_type": "code",
   "execution_count": 46,
   "metadata": {},
   "outputs": [
    {
     "name": "stdout",
     "output_type": "stream",
     "text": [
      "Query: grafo2964.11_2_3.txt\n",
      "GT: 2.0\n",
      "Standard: 3\n",
      "Step: malformed\n",
      "ICL: 3\n",
      "\n",
      "Query: grafo1657.10_1_2.txt\n",
      "GT: 7.0\n",
      "Standard: 9\n",
      "Step: malformed\n",
      "ICL: 6\n",
      "\n",
      "Query: grafo2129.11_1_2.txt\n",
      "GT: 3.0\n",
      "Standard: 5\n",
      "Step: 15\n",
      "ICL: 5\n",
      "\n",
      "Query: grafo997.11_2_3.txt\n",
      "GT: 1.0\n",
      "Standard: 4\n",
      "Step: 2\n",
      "ICL: malformed\n",
      "\n",
      "Query: grafo219.11_2_3.txt\n",
      "GT: 2.0\n",
      "Standard: 4\n",
      "Step: 3\n",
      "ICL: 4\n",
      "\n",
      "Query: grafo541.10_3_4.txt\n",
      "GT: 1.0\n",
      "Standard: 1\n",
      "Step: 2\n",
      "ICL: 0\n",
      "\n",
      "Query: grafo532.11_1_2.txt\n",
      "GT: 2.0\n",
      "Standard: 5\n",
      "Step: 3\n",
      "ICL: 3\n",
      "\n",
      "Query: grafo2931.11_3_4.txt\n",
      "GT: 3.0\n",
      "Standard: 2\n",
      "Step: 3\n",
      "ICL: 2\n",
      "\n",
      "Query: grafo2129.11_2_3.txt\n",
      "GT: 1.0\n",
      "Standard: 2\n",
      "Step: 1\n",
      "ICL: 2\n",
      "\n"
     ]
    }
   ],
   "source": [
    "for query, gt in cross_queries_gt.items():\n",
    "    if gt == 0:\n",
    "        continue\n",
    "\n",
    "    print(\"Query: {}\".format(query))\n",
    "    print(\"GT: {}\".format(gt))\n",
    "    print(\"Standard: {}\".format(cross_std_tuples.get(query, \"malformed\")))\n",
    "    print(\"Step: {}\".format(cross_step_integer.get(query, \"malformed\")))\n",
    "    print(\"ICL: {}\".format(cross_icl_integer.get(query, \"malformed\")))\n",
    "    print()"
   ]
  },
  {
   "cell_type": "code",
   "execution_count": null,
   "metadata": {},
   "outputs": [],
   "source": []
  }
 ],
 "metadata": {
  "kernelspec": {
   "display_name": "gpt_graphs",
   "language": "python",
   "name": "python3"
  },
  "language_info": {
   "codemirror_mode": {
    "name": "ipython",
    "version": 3
   },
   "file_extension": ".py",
   "mimetype": "text/x-python",
   "name": "python",
   "nbconvert_exporter": "python",
   "pygments_lexer": "ipython3",
   "version": "3.9.16"
  },
  "orig_nbformat": 4,
  "vscode": {
   "interpreter": {
    "hash": "dafb023fb61a9cb21231b21edf636d8c395a3f8533b033bfdca443941bcc4563"
   }
  }
 },
 "nbformat": 4,
 "nbformat_minor": 2
}
